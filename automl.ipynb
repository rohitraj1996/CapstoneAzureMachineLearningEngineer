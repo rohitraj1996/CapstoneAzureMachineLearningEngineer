{
 "cells": [
  {
   "cell_type": "markdown",
   "metadata": {},
   "source": [
    "# Automated ML\n",
    "\n",
    "TODO: Import Dependencies. In the cell below, import all the dependencies that you will need to complete the project."
   ]
  },
  {
   "cell_type": "code",
   "execution_count": 1,
   "metadata": {
    "gather": {
     "logged": 1598423888013
    },
    "jupyter": {
     "outputs_hidden": false,
     "source_hidden": false
    },
    "nteract": {
     "transient": {
      "deleting": false
     }
    }
   },
   "outputs": [],
   "source": [
    "from sklearn.model_selection import train_test_split\n",
    "\n",
    "from azureml.core import Dataset, Environment, Experiment, Workspace\n",
    "from azureml.train.automl import AutoMLConfig\n",
    "from azureml.widgets import RunDetails"
   ]
  },
  {
   "cell_type": "markdown",
   "metadata": {},
   "source": [
    "## Dataset\n",
    "\n",
    "### Overview\n",
    "This is the iris dataset found in [UCI repository](https://archive.ics.uci.edu/ml/datasets/Iris). It is a classification problem in which we need to classify type/class of Iris plant. It contains 50 samples of each class totaling to 150 samples.\n",
    "\n",
    "\n",
    "TODO: Get data. In the cell below, write code to access the data you will be using in this project. Remember that the dataset needs to be external."
   ]
  },
  {
   "cell_type": "code",
   "execution_count": 2,
   "metadata": {
    "gather": {
     "logged": 1598423890461
    },
    "jupyter": {
     "outputs_hidden": false,
     "source_hidden": false
    },
    "nteract": {
     "transient": {
      "deleting": false
     }
    }
   },
   "outputs": [
    {
     "name": "stdout",
     "output_type": "stream",
     "text": [
      "Shape of data:  (150, 5)\n"
     ]
    },
    {
     "data": {
      "text/html": [
       "<div>\n",
       "<style scoped>\n",
       "    .dataframe tbody tr th:only-of-type {\n",
       "        vertical-align: middle;\n",
       "    }\n",
       "\n",
       "    .dataframe tbody tr th {\n",
       "        vertical-align: top;\n",
       "    }\n",
       "\n",
       "    .dataframe thead th {\n",
       "        text-align: right;\n",
       "    }\n",
       "</style>\n",
       "<table border=\"1\" class=\"dataframe\">\n",
       "  <thead>\n",
       "    <tr style=\"text-align: right;\">\n",
       "      <th></th>\n",
       "      <th>sepal length (cm)</th>\n",
       "      <th>sepal width (cm)</th>\n",
       "      <th>petal length (cm)</th>\n",
       "      <th>petal width (cm)</th>\n",
       "      <th>labels</th>\n",
       "    </tr>\n",
       "  </thead>\n",
       "  <tbody>\n",
       "    <tr>\n",
       "      <th>0</th>\n",
       "      <td>5.1</td>\n",
       "      <td>3.5</td>\n",
       "      <td>1.4</td>\n",
       "      <td>0.2</td>\n",
       "      <td>Iris-setosa</td>\n",
       "    </tr>\n",
       "    <tr>\n",
       "      <th>1</th>\n",
       "      <td>4.9</td>\n",
       "      <td>3.0</td>\n",
       "      <td>1.4</td>\n",
       "      <td>0.2</td>\n",
       "      <td>Iris-setosa</td>\n",
       "    </tr>\n",
       "    <tr>\n",
       "      <th>2</th>\n",
       "      <td>4.7</td>\n",
       "      <td>3.2</td>\n",
       "      <td>1.3</td>\n",
       "      <td>0.2</td>\n",
       "      <td>Iris-setosa</td>\n",
       "    </tr>\n",
       "    <tr>\n",
       "      <th>3</th>\n",
       "      <td>4.6</td>\n",
       "      <td>3.1</td>\n",
       "      <td>1.5</td>\n",
       "      <td>0.2</td>\n",
       "      <td>Iris-setosa</td>\n",
       "    </tr>\n",
       "    <tr>\n",
       "      <th>4</th>\n",
       "      <td>5.0</td>\n",
       "      <td>3.6</td>\n",
       "      <td>1.4</td>\n",
       "      <td>0.2</td>\n",
       "      <td>Iris-setosa</td>\n",
       "    </tr>\n",
       "  </tbody>\n",
       "</table>\n",
       "</div>"
      ],
      "text/plain": [
       "   sepal length (cm)  sepal width (cm)  petal length (cm)  petal width (cm)  \\\n",
       "0                5.1               3.5                1.4               0.2   \n",
       "1                4.9               3.0                1.4               0.2   \n",
       "2                4.7               3.2                1.3               0.2   \n",
       "3                4.6               3.1                1.5               0.2   \n",
       "4                5.0               3.6                1.4               0.2   \n",
       "\n",
       "        labels  \n",
       "0  Iris-setosa  \n",
       "1  Iris-setosa  \n",
       "2  Iris-setosa  \n",
       "3  Iris-setosa  \n",
       "4  Iris-setosa  "
      ]
     },
     "execution_count": 2,
     "metadata": {},
     "output_type": "execute_result"
    }
   ],
   "source": [
    "ws = Workspace.from_config()\n",
    "\n",
    "# Get dataset\n",
    "dataset = Dataset.get_by_name(ws, \"iris\")\n",
    "\n",
    "iris = dataset.to_pandas_dataframe()\n",
    "print(\"Shape of data: \", str(iris.shape))\n",
    "iris.head()"
   ]
  },
  {
   "cell_type": "code",
   "execution_count": 3,
   "metadata": {},
   "outputs": [
    {
     "data": {
      "text/html": [
       "<table style=\"width:100%\"><tr><th>Name</th><th>Workspace</th><th>Report Page</th><th>Docs Page</th></tr><tr><td>udacity_capstone_project</td><td>quick-starts-ws-129170</td><td><a href=\"https://ml.azure.com/experiments/udacity_capstone_project?wsid=/subscriptions/5781be4e-7862-42f9-8ae8-e879c711039b/resourcegroups/aml-quickstarts-129170/workspaces/quick-starts-ws-129170\" target=\"_blank\" rel=\"noopener\">Link to Azure Machine Learning studio</a></td><td><a href=\"https://docs.microsoft.com/en-us/python/api/azureml-core/azureml.core.experiment.Experiment?view=azure-ml-py\" target=\"_blank\" rel=\"noopener\">Link to Documentation</a></td></tr></table>"
      ],
      "text/plain": [
       "Experiment(Name: udacity_capstone_project,\n",
       "Workspace: quick-starts-ws-129170)"
      ]
     },
     "execution_count": 3,
     "metadata": {},
     "output_type": "execute_result"
    }
   ],
   "source": [
    "# choose a name for experiment\n",
    "experiment_name = 'udacity_capstone_project'\n",
    "\n",
    "experiment=Experiment(ws, experiment_name)\n",
    "experiment"
   ]
  },
  {
   "cell_type": "markdown",
   "metadata": {},
   "source": [
    "## AutoML Configuration\n",
    "\n",
    "TODO: Explain why you chose the automl settings and cofiguration you used below. <br>\n",
    "**Reasons behind choosing below configurations:**\n",
    "\n",
    "- **experiment_timeout_minutes** is 15 as the data is very simple for the algorithm to understand and it does not require many models to run on.\n",
    "- **max_concurrent_iterations** is 5 to run parallel runs.\n",
    "- **task** is classification as it is a classification problem.\n",
    "- **primary_metric** is accuracy as the accuracy will give correct results, as there is no data imbalancing problem.\n",
    "- **training_data** is 'iris' which has 150 samples that will be used for training and validation.\n",
    "- **label_column_name** is the iris class as the 'labels' is to be predicted.\n",
    "- **n_cross_validations** is 5 to ensure that the model does not overfit over certain values."
   ]
  },
  {
   "cell_type": "code",
   "execution_count": 11,
   "metadata": {
    "gather": {
     "logged": 1598429217746
    },
    "jupyter": {
     "outputs_hidden": false,
     "source_hidden": false
    },
    "nteract": {
     "transient": {
      "deleting": false
     }
    }
   },
   "outputs": [],
   "source": [
    "# TODO: Put your automl settings here\n",
    "automl_settings = {\n",
    "    \"experiment_timeout_minutes\": 15,\n",
    "    \"max_concurrent_iterations\": 5,\n",
    "}\n",
    "\n",
    "# TODO: Put your automl config here\n",
    "automl_config = AutoMLConfig(\n",
    "    task='classification',\n",
    "    primary_metric='accuracy',\n",
    "    training_data=iris,\n",
    "    label_column_name='labels',\n",
    "    n_cross_validations=5,\n",
    "    **automl_settings\n",
    ")"
   ]
  },
  {
   "cell_type": "code",
   "execution_count": 12,
   "metadata": {
    "gather": {
     "logged": 1598431107951
    },
    "jupyter": {
     "outputs_hidden": false,
     "source_hidden": false
    },
    "nteract": {
     "transient": {
      "deleting": false
     }
    }
   },
   "outputs": [
    {
     "name": "stdout",
     "output_type": "stream",
     "text": [
      "Running on local machine\n",
      "Parent Run ID: AutoML_cd8d6a71-4711-414c-84df-68fa7153efde\n",
      "\n",
      "Current status: DatasetEvaluation. Gathering dataset statistics.\n",
      "Current status: FeaturesGeneration. Generating features for the dataset.\n",
      "Current status: DatasetFeaturization. Beginning to fit featurizers and featurize the dataset.\n",
      "Current status: DatasetFeaturizationCompleted. Completed fit featurizers and featurizing the dataset.\n",
      "Current status: DatasetCrossValidationSplit. Generating individually featurized CV splits.\n",
      "\n",
      "****************************************************************************************************\n",
      "DATA GUARDRAILS: \n",
      "\n",
      "TYPE:         Class balancing detection\n",
      "STATUS:       PASSED\n",
      "DESCRIPTION:  Your inputs were analyzed, and all classes are balanced in your training data.\n",
      "              Learn more about imbalanced data: https://aka.ms/AutomatedMLImbalancedData\n",
      "\n",
      "****************************************************************************************************\n",
      "\n",
      "TYPE:         Missing feature values imputation\n",
      "STATUS:       PASSED\n",
      "DESCRIPTION:  No feature missing values were detected in the training data.\n",
      "              Learn more about missing value imputation: https://aka.ms/AutomatedMLFeaturization\n",
      "\n",
      "****************************************************************************************************\n",
      "\n",
      "TYPE:         High cardinality feature detection\n",
      "STATUS:       PASSED\n",
      "DESCRIPTION:  Your inputs were analyzed, and no high cardinality features were detected.\n",
      "              Learn more about high cardinality feature handling: https://aka.ms/AutomatedMLFeaturization\n",
      "\n",
      "****************************************************************************************************\n",
      "Current status: ModelSelection. Beginning model selection.\n",
      "\n",
      "****************************************************************************************************\n",
      "ITERATION: The iteration being evaluated.\n",
      "PIPELINE: A summary description of the pipeline being evaluated.\n",
      "DURATION: Time taken for the current iteration.\n",
      "METRIC: The result of computing score on the fitted pipeline.\n",
      "BEST: The best observed score thus far.\n",
      "****************************************************************************************************\n",
      "\n",
      " ITERATION   PIPELINE                                       DURATION      METRIC      BEST\n",
      "         0   MaxAbsScaler LightGBM                          0:00:23       0.9267    0.9267\n",
      "         1   MaxAbsScaler XGBoostClassifier                 0:00:22       0.9600    0.9600\n",
      "         2   MinMaxScaler RandomForest                      0:00:22       0.9600    0.9600\n",
      "         3   StandardScalerWrapper SGD                      0:00:27       0.9000    0.9600\n",
      "         4   MinMaxScaler RandomForest                      0:00:22       0.9533    0.9600\n",
      "         5   StandardScalerWrapper SGD                      0:00:23       0.8267    0.9600\n",
      "         6   StandardScalerWrapper RandomForest             0:00:23       0.9400    0.9600\n",
      "         7   RobustScaler ExtremeRandomTrees                0:00:23       0.9600    0.9600\n",
      "         8   StandardScalerWrapper ExtremeRandomTrees       0:00:24       0.9467    0.9600\n",
      "         9   StandardScalerWrapper SGD                      0:00:22       0.8333    0.9600\n",
      "        10   StandardScalerWrapper SGD                      0:00:27       0.8667    0.9600\n",
      "        11   MinMaxScaler SGD                               0:00:23       0.7067    0.9600\n",
      "        12   RobustScaler ExtremeRandomTrees                0:00:29       0.9533    0.9600\n",
      "        13   MinMaxScaler SGD                               0:00:23       0.7533    0.9600\n",
      "        14   MinMaxScaler ExtremeRandomTrees                0:00:27       0.9667    0.9667\n",
      "        15   MinMaxScaler ExtremeRandomTrees                0:00:27       0.9267    0.9667\n",
      "        16   MinMaxScaler ExtremeRandomTrees                0:00:28       0.9600    0.9667\n",
      "        17   StandardScalerWrapper RandomForest             0:00:23       0.9333    0.9667\n",
      "        18   StandardScalerWrapper SGD                      0:00:24       0.8200    0.9667\n",
      "        19   RobustScaler ExtremeRandomTrees                0:00:29       0.9533    0.9667\n",
      "        20   StandardScalerWrapper RandomForest             0:00:28       0.9667    0.9667\n",
      "        21   MinMaxScaler ExtremeRandomTrees                0:00:24       0.9133    0.9667\n",
      "        22   SparseNormalizer XGBoostClassifier             0:00:24       0.9333    0.9667\n",
      "        23   MinMaxScaler LightGBM                          0:00:24       0.9067    0.9667\n",
      "        24   MaxAbsScaler ExtremeRandomTrees                0:00:23       0.9533    0.9667\n",
      "        25   RobustScaler ExtremeRandomTrees                0:00:32       0.8933    0.9667\n",
      "        26   StandardScalerWrapper ExtremeRandomTrees       0:00:25       0.9533    0.9667\n",
      "        27   StandardScalerWrapper LightGBM                 0:00:29       0.9533    0.9667\n",
      "        28   MaxAbsScaler RandomForest                      0:00:33       0.9533    0.9667\n",
      "        29   SparseNormalizer ExtremeRandomTrees            0:00:27       0.9533    0.9667\n",
      "        30   MaxAbsScaler ExtremeRandomTrees                0:00:22       0.9467    0.9667\n",
      "        31   MinMaxScaler LightGBM                          0:00:23       0.9467    0.9667\n",
      "        32   StandardScalerWrapper LightGBM                 0:00:24       0.9267    0.9667\n",
      "        33   VotingEnsemble                                 0:00:32       0.9667    0.9667\n",
      "        34   StackEnsemble                                  0:00:36       0.9600    0.9667\n",
      "Stopping criteria reached at iteration 35. Ending experiment.\n",
      "****************************************************************************************************\n",
      "Current status: BestRunExplainModel. Best run model explanations started\n",
      "Current status: ModelExplanationDataSetSetup. Model explanations data setup completed\n",
      "Current status: PickSurrogateModel. Choosing LightGBM as the surrogate model for explanations\n",
      "Current status: EngineeredFeatureExplanations. Computation of engineered features started\n",
      "Current status: EngineeredFeatureExplanations. Computation of engineered features completed\n",
      "Current status: RawFeaturesExplanations. Computation of raw features started\n",
      "Current status: RawFeaturesExplanations. Computation of raw features completed\n",
      "Current status: BestRunExplainModel. Best run model explanations completed\n",
      "****************************************************************************************************\n"
     ]
    }
   ],
   "source": [
    "# TODO: Submit your experiment\n",
    "automl_run = experiment.submit(automl_config, show_output=True)"
   ]
  },
  {
   "cell_type": "markdown",
   "metadata": {},
   "source": [
    "## Run Details\n",
    "TODO: In the cell below, use the `RunDetails` widget to show the different experiments."
   ]
  },
  {
   "cell_type": "code",
   "execution_count": 13,
   "metadata": {
    "gather": {
     "logged": 1598431121770
    },
    "jupyter": {
     "outputs_hidden": false,
     "source_hidden": false
    },
    "nteract": {
     "transient": {
      "deleting": false
     }
    },
    "scrolled": false
   },
   "outputs": [
    {
     "data": {
      "application/vnd.jupyter.widget-view+json": {
       "model_id": "9ea4c8513fe9493eab8ab565b9338292",
       "version_major": 2,
       "version_minor": 0
      },
      "text/plain": [
       "_AutoMLWidget(widget_settings={'childWidgetDisplay': 'popup', 'send_telemetry': False, 'log_level': 'INFO', 's…"
      ]
     },
     "metadata": {},
     "output_type": "display_data"
    },
    {
     "data": {
      "application/aml.mini.widget.v1": "{\"status\": \"Completed\", \"workbench_run_details_uri\": \"https://ml.azure.com/experiments/udacity_capstone_project/runs/AutoML_cd8d6a71-4711-414c-84df-68fa7153efde?wsid=/subscriptions/5781be4e-7862-42f9-8ae8-e879c711039b/resourcegroups/aml-quickstarts-129170/workspaces/quick-starts-ws-129170\", \"run_id\": \"AutoML_cd8d6a71-4711-414c-84df-68fa7153efde\", \"run_properties\": {\"run_id\": \"AutoML_cd8d6a71-4711-414c-84df-68fa7153efde\", \"created_utc\": \"2020-12-04T14:57:46.840838Z\", \"properties\": {\"num_iterations\": \"1000\", \"training_type\": \"TrainFull\", \"acquisition_function\": \"EI\", \"primary_metric\": \"accuracy\", \"train_split\": \"0\", \"acquisition_parameter\": \"0\", \"num_cross_validation\": \"5\", \"target\": \"local\", \"AMLSettingsJsonString\": \"{\\\"path\\\":null,\\\"name\\\":\\\"udacity_capstone_project\\\",\\\"subscription_id\\\":\\\"5781be4e-7862-42f9-8ae8-e879c711039b\\\",\\\"resource_group\\\":\\\"aml-quickstarts-129170\\\",\\\"workspace_name\\\":\\\"quick-starts-ws-129170\\\",\\\"region\\\":\\\"southcentralus\\\",\\\"compute_target\\\":\\\"local\\\",\\\"spark_service\\\":null,\\\"azure_service\\\":\\\"Microsoft.AzureNotebookVM\\\",\\\"_local_managed_run_id\\\":null,\\\"many_models\\\":false,\\\"pipeline_fetch_max_batch_size\\\":1,\\\"iterations\\\":1000,\\\"primary_metric\\\":\\\"accuracy\\\",\\\"task_type\\\":\\\"classification\\\",\\\"data_script\\\":null,\\\"validation_size\\\":0.0,\\\"n_cross_validations\\\":5,\\\"y_min\\\":null,\\\"y_max\\\":null,\\\"num_classes\\\":3,\\\"featurization\\\":\\\"auto\\\",\\\"_ignore_package_version_incompatibilities\\\":false,\\\"is_timeseries\\\":false,\\\"max_cores_per_iteration\\\":1,\\\"max_concurrent_iterations\\\":5,\\\"iteration_timeout_minutes\\\":null,\\\"mem_in_mb\\\":null,\\\"enforce_time_on_windows\\\":false,\\\"experiment_timeout_minutes\\\":15,\\\"experiment_exit_score\\\":null,\\\"whitelist_models\\\":null,\\\"blacklist_algos\\\":[\\\"TensorFlowLinearClassifier\\\",\\\"TensorFlowDNN\\\"],\\\"supported_models\\\":[\\\"RandomForest\\\",\\\"TensorFlowDNN\\\",\\\"MultinomialNaiveBayes\\\",\\\"SGD\\\",\\\"LightGBM\\\",\\\"XGBoostClassifier\\\",\\\"ExtremeRandomTrees\\\",\\\"LinearSVM\\\",\\\"DecisionTree\\\",\\\"LogisticRegression\\\",\\\"GradientBoosting\\\",\\\"TensorFlowLinearClassifier\\\",\\\"AveragedPerceptronClassifier\\\",\\\"KNN\\\",\\\"SVM\\\",\\\"BernoulliNaiveBayes\\\"],\\\"auto_blacklist\\\":true,\\\"blacklist_samples_reached\\\":false,\\\"exclude_nan_labels\\\":true,\\\"verbosity\\\":20,\\\"_debug_log\\\":\\\"automl.log\\\",\\\"show_warnings\\\":false,\\\"model_explainability\\\":true,\\\"service_url\\\":null,\\\"sdk_url\\\":null,\\\"sdk_packages\\\":null,\\\"enable_onnx_compatible_models\\\":false,\\\"enable_split_onnx_featurizer_estimator_models\\\":false,\\\"vm_type\\\":null,\\\"telemetry_verbosity\\\":20,\\\"send_telemetry\\\":true,\\\"enable_dnn\\\":false,\\\"scenario\\\":\\\"SDK-1.13.0\\\",\\\"environment_label\\\":null,\\\"force_text_dnn\\\":false,\\\"enable_feature_sweeping\\\":true,\\\"enable_early_stopping\\\":false,\\\"early_stopping_n_iters\\\":10,\\\"metrics\\\":null,\\\"enable_ensembling\\\":true,\\\"enable_stack_ensembling\\\":true,\\\"ensemble_iterations\\\":15,\\\"enable_tf\\\":false,\\\"enable_subsampling\\\":null,\\\"subsample_seed\\\":null,\\\"enable_nimbusml\\\":false,\\\"enable_streaming\\\":false,\\\"force_streaming\\\":false,\\\"track_child_runs\\\":true,\\\"allowed_private_models\\\":[],\\\"label_column_name\\\":\\\"labels\\\",\\\"weight_column_name\\\":null,\\\"cv_split_column_names\\\":null,\\\"enable_local_managed\\\":false,\\\"cost_mode\\\":1,\\\"lag_length\\\":0,\\\"metric_operation\\\":\\\"maximize\\\",\\\"preprocess\\\":true}\", \"DataPrepJsonString\": null, \"EnableSubsampling\": null, \"runTemplate\": \"AutoML\", \"azureml.runsource\": \"automl\", \"display_task_type\": \"classification\", \"dependencies_versions\": \"{\\\"azureml-widgets\\\": \\\"1.18.0\\\", \\\"azureml-train\\\": \\\"1.18.0\\\", \\\"azureml-train-restclients-hyperdrive\\\": \\\"1.18.0\\\", \\\"azureml-train-core\\\": \\\"1.18.0\\\", \\\"azureml-train-automl\\\": \\\"1.18.0\\\", \\\"azureml-train-automl-runtime\\\": \\\"1.18.0\\\", \\\"azureml-train-automl-client\\\": \\\"1.18.0\\\", \\\"azureml-tensorboard\\\": \\\"1.18.0\\\", \\\"azureml-telemetry\\\": \\\"1.18.0\\\", \\\"azureml-sdk\\\": \\\"1.18.0\\\", \\\"azureml-samples\\\": \\\"0+unknown\\\", \\\"azureml-pipeline\\\": \\\"1.18.0\\\", \\\"azureml-pipeline-steps\\\": \\\"1.18.0\\\", \\\"azureml-pipeline-core\\\": \\\"1.18.0\\\", \\\"azureml-opendatasets\\\": \\\"1.18.0\\\", \\\"azureml-model-management-sdk\\\": \\\"1.0.1b6.post1\\\", \\\"azureml-mlflow\\\": \\\"1.18.0\\\", \\\"azureml-interpret\\\": \\\"1.18.0\\\", \\\"azureml-explain-model\\\": \\\"1.18.0\\\", \\\"azureml-defaults\\\": \\\"1.18.0\\\", \\\"azureml-dataset-runtime\\\": \\\"1.18.0\\\", \\\"azureml-dataprep\\\": \\\"2.4.2\\\", \\\"azureml-dataprep-rslex\\\": \\\"1.2.2\\\", \\\"azureml-dataprep-native\\\": \\\"24.0.0\\\", \\\"azureml-datadrift\\\": \\\"1.18.0\\\", \\\"azureml-core\\\": \\\"1.18.0\\\", \\\"azureml-contrib-services\\\": \\\"1.18.0\\\", \\\"azureml-contrib-server\\\": \\\"1.18.0\\\", \\\"azureml-contrib-reinforcementlearning\\\": \\\"1.18.0\\\", \\\"azureml-contrib-pipeline-steps\\\": \\\"1.18.0\\\", \\\"azureml-contrib-notebook\\\": \\\"1.18.0\\\", \\\"azureml-contrib-interpret\\\": \\\"1.18.0\\\", \\\"azureml-contrib-gbdt\\\": \\\"1.18.0\\\", \\\"azureml-contrib-fairness\\\": \\\"1.18.0\\\", \\\"azureml-contrib-dataset\\\": \\\"1.18.0\\\", \\\"azureml-cli-common\\\": \\\"1.18.0\\\", \\\"azureml-automl-runtime\\\": \\\"1.18.0\\\", \\\"azureml-automl-core\\\": \\\"1.18.0\\\", \\\"azureml-accel-models\\\": \\\"1.18.0\\\"}\", \"_aml_system_scenario_identification\": \"Local.Parent\", \"ClientSdkVersion\": \"1.18.0\", \"ClientType\": \"SDK\", \"environment_cpu_name\": \"AzureML-AutoML\", \"environment_cpu_version\": \"48\", \"environment_gpu_name\": \"AzureML-AutoML-GPU\", \"environment_gpu_version\": \"36\", \"root_attribution\": \"automl\", \"attribution\": \"AutoML\", \"Orchestrator\": \"AutoML\", \"_azureml.ComputeTargetType\": \"local\", \"ProblemInfoJsonString\": \"{\\\"dataset_num_categorical\\\": 0, \\\"is_sparse\\\": false, \\\"subsampling\\\": false, \\\"dataset_classes\\\": 3, \\\"dataset_features\\\": 4, \\\"dataset_samples\\\": 150, \\\"single_frequency_class_detected\\\": false}\", \"feature_skus\": \"automatedml_sdk_guardrails\"}, \"tags\": {\"model_explain_run\": \"best_run\", \"best_score\": \"0.9666666666666668\", \"best_pipeline\": \"ExtremeRandomTrees\", \"automl_best_child_run_id\": \"AutoML_cd8d6a71-4711-414c-84df-68fa7153efde_20\", \"model_explain_best_run_child_id\": \"AutoML_cd8d6a71-4711-414c-84df-68fa7153efde_20\"}, \"end_time_utc\": \"2020-12-04T15:14:09.69455Z\", \"status\": \"Completed\", \"log_files\": {}, \"log_groups\": [], \"run_duration\": \"0:16:22\"}, \"child_runs\": [{\"run_id\": \"AutoML_cd8d6a71-4711-414c-84df-68fa7153efde_0\", \"run_number\": 112, \"metric\": null, \"status\": \"Completed\", \"run_type\": null, \"training_percent\": \"100\", \"start_time\": \"2020-12-04T14:57:56.909332Z\", \"end_time\": \"2020-12-04T14:58:19.981996Z\", \"created_time\": \"2020-12-04T14:57:56.786217Z\", \"created_time_dt\": \"2020-12-04T14:57:56.786217Z\", \"duration\": \"0:00:23\", \"iteration\": \"0\", \"goal\": \"accuracy_max\", \"run_name\": \"MaxAbsScaler, LightGBM\", \"run_properties\": \"copy=True\", \"primary_metric\": 0.92666667, \"best_metric\": 0.92666667}, {\"run_id\": \"AutoML_cd8d6a71-4711-414c-84df-68fa7153efde_1\", \"run_number\": 113, \"metric\": null, \"status\": \"Completed\", \"run_type\": null, \"training_percent\": \"100\", \"start_time\": \"2020-12-04T14:58:20.346126Z\", \"end_time\": \"2020-12-04T14:58:42.969032Z\", \"created_time\": \"2020-12-04T14:58:20.228831Z\", \"created_time_dt\": \"2020-12-04T14:58:20.228831Z\", \"duration\": \"0:00:22\", \"iteration\": \"1\", \"goal\": \"accuracy_max\", \"run_name\": \"MaxAbsScaler, XGBoostClassifier\", \"run_properties\": \"copy=True\", \"primary_metric\": 0.96, \"best_metric\": 0.96}, {\"run_id\": \"AutoML_cd8d6a71-4711-414c-84df-68fa7153efde_2\", \"run_number\": 114, \"metric\": null, \"status\": \"Completed\", \"run_type\": null, \"training_percent\": \"100\", \"start_time\": \"2020-12-04T14:58:43.724015Z\", \"end_time\": \"2020-12-04T14:59:06.383299Z\", \"created_time\": \"2020-12-04T14:58:43.599087Z\", \"created_time_dt\": \"2020-12-04T14:58:43.599087Z\", \"duration\": \"0:00:22\", \"iteration\": \"2\", \"goal\": \"accuracy_max\", \"run_name\": \"MinMaxScaler, RandomForest\", \"run_properties\": \"copy=True, feature_range=(0, 1\", \"primary_metric\": 0.96, \"best_metric\": 0.96}, {\"run_id\": \"AutoML_cd8d6a71-4711-414c-84df-68fa7153efde_3\", \"run_number\": 115, \"metric\": null, \"status\": \"Completed\", \"run_type\": null, \"training_percent\": \"100\", \"start_time\": \"2020-12-04T14:59:07.725073Z\", \"end_time\": \"2020-12-04T14:59:35.553794Z\", \"created_time\": \"2020-12-04T14:59:07.607465Z\", \"created_time_dt\": \"2020-12-04T14:59:07.607465Z\", \"duration\": \"0:00:27\", \"iteration\": \"3\", \"goal\": \"accuracy_max\", \"run_name\": \"StandardScalerWrapper, SGD\", \"run_properties\": \"<azureml.automl.runtime.shared.model_wrappers.StandardScalerWrapper object at 0x7f7650f472b0\", \"primary_metric\": 0.9, \"best_metric\": 0.96}, {\"run_id\": \"AutoML_cd8d6a71-4711-414c-84df-68fa7153efde_4\", \"run_number\": 116, \"metric\": null, \"status\": \"Completed\", \"run_type\": null, \"training_percent\": \"100\", \"start_time\": \"2020-12-04T14:59:37.056454Z\", \"end_time\": \"2020-12-04T14:59:59.770114Z\", \"created_time\": \"2020-12-04T14:59:36.912Z\", \"created_time_dt\": \"2020-12-04T14:59:36.912Z\", \"duration\": \"0:00:22\", \"iteration\": \"4\", \"goal\": \"accuracy_max\", \"run_name\": \"MinMaxScaler, RandomForest\", \"run_properties\": \"copy=True, feature_range=(0, 1\", \"primary_metric\": 0.95333333, \"best_metric\": 0.96}, {\"run_id\": \"AutoML_cd8d6a71-4711-414c-84df-68fa7153efde_5\", \"run_number\": 117, \"metric\": null, \"status\": \"Completed\", \"run_type\": null, \"training_percent\": \"100\", \"start_time\": \"2020-12-04T15:00:01.872282Z\", \"end_time\": \"2020-12-04T15:00:25.208259Z\", \"created_time\": \"2020-12-04T15:00:01.721019Z\", \"created_time_dt\": \"2020-12-04T15:00:01.721019Z\", \"duration\": \"0:00:23\", \"iteration\": \"5\", \"goal\": \"accuracy_max\", \"run_name\": \"StandardScalerWrapper, SGD\", \"run_properties\": \"<azureml.automl.runtime.shared.model_wrappers.StandardScalerWrapper object at 0x7f765141d518\", \"primary_metric\": 0.82666667, \"best_metric\": 0.96}, {\"run_id\": \"AutoML_cd8d6a71-4711-414c-84df-68fa7153efde_6\", \"run_number\": 118, \"metric\": null, \"status\": \"Completed\", \"run_type\": null, \"training_percent\": \"100\", \"start_time\": \"2020-12-04T15:00:27.47921Z\", \"end_time\": \"2020-12-04T15:00:50.452991Z\", \"created_time\": \"2020-12-04T15:00:27.154943Z\", \"created_time_dt\": \"2020-12-04T15:00:27.154943Z\", \"duration\": \"0:00:23\", \"iteration\": \"6\", \"goal\": \"accuracy_max\", \"run_name\": \"StandardScalerWrapper, RandomForest\", \"run_properties\": \"<azureml.automl.runtime.shared.model_wrappers.StandardScalerWrapper object at 0x7f7650dc2780\", \"primary_metric\": 0.94, \"best_metric\": 0.96}, {\"run_id\": \"AutoML_cd8d6a71-4711-414c-84df-68fa7153efde_7\", \"run_number\": 119, \"metric\": null, \"status\": \"Completed\", \"run_type\": null, \"training_percent\": \"100\", \"start_time\": \"2020-12-04T15:00:51.965354Z\", \"end_time\": \"2020-12-04T15:01:15.811568Z\", \"created_time\": \"2020-12-04T15:00:51.832357Z\", \"created_time_dt\": \"2020-12-04T15:00:51.832357Z\", \"duration\": \"0:00:23\", \"iteration\": \"7\", \"goal\": \"accuracy_max\", \"run_name\": \"RobustScaler, ExtremeRandomTrees\", \"run_properties\": \"copy=True, quantile_range=[10, 90], with_centering=False,\\n             with_scaling=False\", \"primary_metric\": 0.96, \"best_metric\": 0.96}, {\"run_id\": \"AutoML_cd8d6a71-4711-414c-84df-68fa7153efde_8\", \"run_number\": 120, \"metric\": null, \"status\": \"Completed\", \"run_type\": null, \"training_percent\": \"100\", \"start_time\": \"2020-12-04T15:01:17.813329Z\", \"end_time\": \"2020-12-04T15:01:41.888578Z\", \"created_time\": \"2020-12-04T15:01:17.466578Z\", \"created_time_dt\": \"2020-12-04T15:01:17.466578Z\", \"duration\": \"0:00:24\", \"iteration\": \"8\", \"goal\": \"accuracy_max\", \"run_name\": \"StandardScalerWrapper, ExtremeRandomTrees\", \"run_properties\": \"<azureml.automl.runtime.shared.model_wrappers.StandardScalerWrapper object at 0x7f7645de54e0\", \"primary_metric\": 0.94666667, \"best_metric\": 0.96}, {\"run_id\": \"AutoML_cd8d6a71-4711-414c-84df-68fa7153efde_9\", \"run_number\": 121, \"metric\": null, \"status\": \"Completed\", \"run_type\": null, \"training_percent\": \"100\", \"start_time\": \"2020-12-04T15:01:43.323867Z\", \"end_time\": \"2020-12-04T15:02:05.845051Z\", \"created_time\": \"2020-12-04T15:01:43.198598Z\", \"created_time_dt\": \"2020-12-04T15:01:43.198598Z\", \"duration\": \"0:00:22\", \"iteration\": \"9\", \"goal\": \"accuracy_max\", \"run_name\": \"StandardScalerWrapper, SGD\", \"run_properties\": \"<azureml.automl.runtime.shared.model_wrappers.StandardScalerWrapper object at 0x7f7651264e48\", \"primary_metric\": 0.83333333, \"best_metric\": 0.96}, {\"run_id\": \"AutoML_cd8d6a71-4711-414c-84df-68fa7153efde_10\", \"run_number\": 122, \"metric\": null, \"status\": \"Completed\", \"run_type\": null, \"training_percent\": \"100\", \"start_time\": \"2020-12-04T15:02:08.070829Z\", \"end_time\": \"2020-12-04T15:02:35.823659Z\", \"created_time\": \"2020-12-04T15:02:07.695998Z\", \"created_time_dt\": \"2020-12-04T15:02:07.695998Z\", \"duration\": \"0:00:28\", \"iteration\": \"10\", \"goal\": \"accuracy_max\", \"run_name\": \"StandardScalerWrapper, SGD\", \"run_properties\": \"<azureml.automl.runtime.shared.model_wrappers.StandardScalerWrapper object at 0x7f76461e7358\", \"primary_metric\": 0.86666667, \"best_metric\": 0.96}, {\"run_id\": \"AutoML_cd8d6a71-4711-414c-84df-68fa7153efde_11\", \"run_number\": 123, \"metric\": null, \"status\": \"Completed\", \"run_type\": null, \"training_percent\": \"100\", \"start_time\": \"2020-12-04T15:02:37.460472Z\", \"end_time\": \"2020-12-04T15:03:00.380964Z\", \"created_time\": \"2020-12-04T15:02:37.304557Z\", \"created_time_dt\": \"2020-12-04T15:02:37.304557Z\", \"duration\": \"0:00:23\", \"iteration\": \"11\", \"goal\": \"accuracy_max\", \"run_name\": \"MinMaxScaler, SGD\", \"run_properties\": \"copy=True, feature_range=(0, 1\", \"primary_metric\": 0.70666667, \"best_metric\": 0.96}, {\"run_id\": \"AutoML_cd8d6a71-4711-414c-84df-68fa7153efde_12\", \"run_number\": 124, \"metric\": null, \"status\": \"Completed\", \"run_type\": null, \"training_percent\": \"100\", \"start_time\": \"2020-12-04T15:03:02.050323Z\", \"end_time\": \"2020-12-04T15:03:30.980853Z\", \"created_time\": \"2020-12-04T15:03:01.884877Z\", \"created_time_dt\": \"2020-12-04T15:03:01.884877Z\", \"duration\": \"0:00:29\", \"iteration\": \"12\", \"goal\": \"accuracy_max\", \"run_name\": \"RobustScaler, ExtremeRandomTrees\", \"run_properties\": \"copy=True, quantile_range=[10, 90], with_centering=False,\\n             with_scaling=False\", \"primary_metric\": 0.95333333, \"best_metric\": 0.96}, {\"run_id\": \"AutoML_cd8d6a71-4711-414c-84df-68fa7153efde_13\", \"run_number\": 125, \"metric\": null, \"status\": \"Completed\", \"run_type\": null, \"training_percent\": \"100\", \"start_time\": \"2020-12-04T15:03:32.644016Z\", \"end_time\": \"2020-12-04T15:03:55.688295Z\", \"created_time\": \"2020-12-04T15:03:32.519161Z\", \"created_time_dt\": \"2020-12-04T15:03:32.519161Z\", \"duration\": \"0:00:23\", \"iteration\": \"13\", \"goal\": \"accuracy_max\", \"run_name\": \"MinMaxScaler, SGD\", \"run_properties\": \"copy=True, feature_range=(0, 1\", \"primary_metric\": 0.75333333, \"best_metric\": 0.96}, {\"run_id\": \"AutoML_cd8d6a71-4711-414c-84df-68fa7153efde_14\", \"run_number\": 126, \"metric\": null, \"status\": \"Completed\", \"run_type\": null, \"training_percent\": \"100\", \"start_time\": \"2020-12-04T15:03:57.331827Z\", \"end_time\": \"2020-12-04T15:04:25.092584Z\", \"created_time\": \"2020-12-04T15:03:57.182345Z\", \"created_time_dt\": \"2020-12-04T15:03:57.182345Z\", \"duration\": \"0:00:27\", \"iteration\": \"14\", \"goal\": \"accuracy_max\", \"run_name\": \"MinMaxScaler, ExtremeRandomTrees\", \"run_properties\": \"copy=True, feature_range=(0, 1\", \"primary_metric\": 0.96666667, \"best_metric\": 0.96666667}, {\"run_id\": \"AutoML_cd8d6a71-4711-414c-84df-68fa7153efde_15\", \"run_number\": 127, \"metric\": null, \"status\": \"Completed\", \"run_type\": null, \"training_percent\": \"100\", \"start_time\": \"2020-12-04T15:04:26.45428Z\", \"end_time\": \"2020-12-04T15:04:53.904803Z\", \"created_time\": \"2020-12-04T15:04:26.331788Z\", \"created_time_dt\": \"2020-12-04T15:04:26.331788Z\", \"duration\": \"0:00:27\", \"iteration\": \"15\", \"goal\": \"accuracy_max\", \"run_name\": \"MinMaxScaler, ExtremeRandomTrees\", \"run_properties\": \"copy=True, feature_range=(0, 1\", \"primary_metric\": 0.92666667, \"best_metric\": 0.96666667}, {\"run_id\": \"AutoML_cd8d6a71-4711-414c-84df-68fa7153efde_16\", \"run_number\": 128, \"metric\": null, \"status\": \"Completed\", \"run_type\": null, \"training_percent\": \"100\", \"start_time\": \"2020-12-04T15:04:56.024502Z\", \"end_time\": \"2020-12-04T15:05:24.04583Z\", \"created_time\": \"2020-12-04T15:04:55.706575Z\", \"created_time_dt\": \"2020-12-04T15:04:55.706575Z\", \"duration\": \"0:00:28\", \"iteration\": \"16\", \"goal\": \"accuracy_max\", \"run_name\": \"MinMaxScaler, ExtremeRandomTrees\", \"run_properties\": \"copy=True, feature_range=(0, 1\", \"primary_metric\": 0.96, \"best_metric\": 0.96666667}, {\"run_id\": \"AutoML_cd8d6a71-4711-414c-84df-68fa7153efde_17\", \"run_number\": 129, \"metric\": null, \"status\": \"Completed\", \"run_type\": null, \"training_percent\": \"100\", \"start_time\": \"2020-12-04T15:05:25.535581Z\", \"end_time\": \"2020-12-04T15:05:48.774045Z\", \"created_time\": \"2020-12-04T15:05:25.402518Z\", \"created_time_dt\": \"2020-12-04T15:05:25.402518Z\", \"duration\": \"0:00:23\", \"iteration\": \"17\", \"goal\": \"accuracy_max\", \"run_name\": \"StandardScalerWrapper, RandomForest\", \"run_properties\": \"<azureml.automl.runtime.shared.model_wrappers.StandardScalerWrapper object at 0x7f7651237160\", \"primary_metric\": 0.93333333, \"best_metric\": 0.96666667}, {\"run_id\": \"AutoML_cd8d6a71-4711-414c-84df-68fa7153efde_18\", \"run_number\": 130, \"metric\": null, \"status\": \"Completed\", \"run_type\": null, \"training_percent\": \"100\", \"start_time\": \"2020-12-04T15:05:50.995214Z\", \"end_time\": \"2020-12-04T15:06:14.993558Z\", \"created_time\": \"2020-12-04T15:05:50.603748Z\", \"created_time_dt\": \"2020-12-04T15:05:50.603748Z\", \"duration\": \"0:00:24\", \"iteration\": \"18\", \"goal\": \"accuracy_max\", \"run_name\": \"StandardScalerWrapper, SGD\", \"run_properties\": \"<azureml.automl.runtime.shared.model_wrappers.StandardScalerWrapper object at 0x7f76514526d8\", \"primary_metric\": 0.82, \"best_metric\": 0.96666667}, {\"run_id\": \"AutoML_cd8d6a71-4711-414c-84df-68fa7153efde_19\", \"run_number\": 131, \"metric\": null, \"status\": \"Completed\", \"run_type\": null, \"training_percent\": \"100\", \"start_time\": \"2020-12-04T15:06:16.64439Z\", \"end_time\": \"2020-12-04T15:06:45.609267Z\", \"created_time\": \"2020-12-04T15:06:16.458956Z\", \"created_time_dt\": \"2020-12-04T15:06:16.458956Z\", \"duration\": \"0:00:29\", \"iteration\": \"19\", \"goal\": \"accuracy_max\", \"run_name\": \"RobustScaler, ExtremeRandomTrees\", \"run_properties\": \"copy=True, quantile_range=[25, 75], with_centering=True,\\n             with_scaling=False\", \"primary_metric\": 0.95333333, \"best_metric\": 0.96666667}, {\"run_id\": \"AutoML_cd8d6a71-4711-414c-84df-68fa7153efde_20\", \"run_number\": 132, \"metric\": null, \"status\": \"Completed\", \"run_type\": null, \"training_percent\": \"100\", \"start_time\": \"2020-12-04T15:06:47.376719Z\", \"end_time\": \"2020-12-04T15:07:16.207448Z\", \"created_time\": \"2020-12-04T15:06:47.16291Z\", \"created_time_dt\": \"2020-12-04T15:06:47.16291Z\", \"duration\": \"0:00:29\", \"iteration\": \"20\", \"goal\": \"accuracy_max\", \"run_name\": \"StandardScalerWrapper, RandomForest\", \"run_properties\": \"<azureml.automl.runtime.shared.model_wrappers.StandardScalerWrapper object at 0x7f76510dfc50\", \"primary_metric\": 0.96666667, \"best_metric\": 0.96666667}, {\"run_id\": \"AutoML_cd8d6a71-4711-414c-84df-68fa7153efde_21\", \"run_number\": 133, \"metric\": null, \"status\": \"Completed\", \"run_type\": null, \"training_percent\": \"100\", \"start_time\": \"2020-12-04T15:07:17.933771Z\", \"end_time\": \"2020-12-04T15:07:41.988407Z\", \"created_time\": \"2020-12-04T15:07:17.724403Z\", \"created_time_dt\": \"2020-12-04T15:07:17.724403Z\", \"duration\": \"0:00:24\", \"iteration\": \"21\", \"goal\": \"accuracy_max\", \"run_name\": \"MinMaxScaler, ExtremeRandomTrees\", \"run_properties\": \"copy=True, feature_range=(0, 1\", \"primary_metric\": 0.91333333, \"best_metric\": 0.96666667}, {\"run_id\": \"AutoML_cd8d6a71-4711-414c-84df-68fa7153efde_22\", \"run_number\": 134, \"metric\": null, \"status\": \"Completed\", \"run_type\": null, \"training_percent\": \"100\", \"start_time\": \"2020-12-04T15:07:43.599569Z\", \"end_time\": \"2020-12-04T15:08:08.252846Z\", \"created_time\": \"2020-12-04T15:07:43.402104Z\", \"created_time_dt\": \"2020-12-04T15:07:43.402104Z\", \"duration\": \"0:00:24\", \"iteration\": \"22\", \"goal\": \"accuracy_max\", \"run_name\": \"SparseNormalizer, XGBoostClassifier\", \"run_properties\": \"<azureml.automl.runtime.shared.model_wrappers.SparseNormalizer object at 0x7f7648ca62e8\", \"primary_metric\": 0.93333333, \"best_metric\": 0.96666667}, {\"run_id\": \"AutoML_cd8d6a71-4711-414c-84df-68fa7153efde_23\", \"run_number\": 135, \"metric\": null, \"status\": \"Completed\", \"run_type\": null, \"training_percent\": \"100\", \"start_time\": \"2020-12-04T15:08:10.057151Z\", \"end_time\": \"2020-12-04T15:08:34.63349Z\", \"created_time\": \"2020-12-04T15:08:09.84983Z\", \"created_time_dt\": \"2020-12-04T15:08:09.84983Z\", \"duration\": \"0:00:24\", \"iteration\": \"23\", \"goal\": \"accuracy_max\", \"run_name\": \"MinMaxScaler, LightGBM\", \"run_properties\": \"copy=True, feature_range=(0, 1\", \"primary_metric\": 0.90666667, \"best_metric\": 0.96666667}, {\"run_id\": \"AutoML_cd8d6a71-4711-414c-84df-68fa7153efde_24\", \"run_number\": 136, \"metric\": null, \"status\": \"Completed\", \"run_type\": null, \"training_percent\": \"100\", \"start_time\": \"2020-12-04T15:08:37.131482Z\", \"end_time\": \"2020-12-04T15:09:00.792619Z\", \"created_time\": \"2020-12-04T15:08:36.724057Z\", \"created_time_dt\": \"2020-12-04T15:08:36.724057Z\", \"duration\": \"0:00:24\", \"iteration\": \"24\", \"goal\": \"accuracy_max\", \"run_name\": \"MaxAbsScaler, ExtremeRandomTrees\", \"run_properties\": \"copy=True\", \"primary_metric\": 0.95333333, \"best_metric\": 0.96666667}, {\"run_id\": \"AutoML_cd8d6a71-4711-414c-84df-68fa7153efde_25\", \"run_number\": 137, \"metric\": null, \"status\": \"Completed\", \"run_type\": null, \"training_percent\": \"100\", \"start_time\": \"2020-12-04T15:09:03.554396Z\", \"end_time\": \"2020-12-04T15:09:35.869358Z\", \"created_time\": \"2020-12-04T15:09:03.357441Z\", \"created_time_dt\": \"2020-12-04T15:09:03.357441Z\", \"duration\": \"0:00:32\", \"iteration\": \"25\", \"goal\": \"accuracy_max\", \"run_name\": \"RobustScaler, ExtremeRandomTrees\", \"run_properties\": \"copy=True, quantile_range=[10, 90], with_centering=False,\\n             with_scaling=True\", \"primary_metric\": 0.89333333, \"best_metric\": 0.96666667}, {\"run_id\": \"AutoML_cd8d6a71-4711-414c-84df-68fa7153efde_26\", \"run_number\": 138, \"metric\": null, \"status\": \"Completed\", \"run_type\": null, \"training_percent\": \"100\", \"start_time\": \"2020-12-04T15:09:37.943774Z\", \"end_time\": \"2020-12-04T15:10:03.536031Z\", \"created_time\": \"2020-12-04T15:09:37.572673Z\", \"created_time_dt\": \"2020-12-04T15:09:37.572673Z\", \"duration\": \"0:00:25\", \"iteration\": \"26\", \"goal\": \"accuracy_max\", \"run_name\": \"StandardScalerWrapper, ExtremeRandomTrees\", \"run_properties\": \"<azureml.automl.runtime.shared.model_wrappers.StandardScalerWrapper object at 0x7f76512404a8\", \"primary_metric\": 0.95333333, \"best_metric\": 0.96666667}, {\"run_id\": \"AutoML_cd8d6a71-4711-414c-84df-68fa7153efde_27\", \"run_number\": 139, \"metric\": null, \"status\": \"Completed\", \"run_type\": null, \"training_percent\": \"100\", \"start_time\": \"2020-12-04T15:10:05.02013Z\", \"end_time\": \"2020-12-04T15:10:33.330782Z\", \"created_time\": \"2020-12-04T15:10:04.803836Z\", \"created_time_dt\": \"2020-12-04T15:10:04.803836Z\", \"duration\": \"0:00:28\", \"iteration\": \"27\", \"goal\": \"accuracy_max\", \"run_name\": \"StandardScalerWrapper, LightGBM\", \"run_properties\": \"<azureml.automl.runtime.shared.model_wrappers.StandardScalerWrapper object at 0x7f7645aba048\", \"primary_metric\": 0.95333333, \"best_metric\": 0.96666667}, {\"run_id\": \"AutoML_cd8d6a71-4711-414c-84df-68fa7153efde_28\", \"run_number\": 140, \"metric\": null, \"status\": \"Completed\", \"run_type\": null, \"training_percent\": \"100\", \"start_time\": \"2020-12-04T15:10:36.449435Z\", \"end_time\": \"2020-12-04T15:11:09.172572Z\", \"created_time\": \"2020-12-04T15:10:35.778709Z\", \"created_time_dt\": \"2020-12-04T15:10:35.778709Z\", \"duration\": \"0:00:33\", \"iteration\": \"28\", \"goal\": \"accuracy_max\", \"run_name\": \"MaxAbsScaler, RandomForest\", \"run_properties\": \"copy=True\", \"primary_metric\": 0.95333333, \"best_metric\": 0.96666667}, {\"run_id\": \"AutoML_cd8d6a71-4711-414c-84df-68fa7153efde_29\", \"run_number\": 141, \"metric\": null, \"status\": \"Completed\", \"run_type\": null, \"training_percent\": \"100\", \"start_time\": \"2020-12-04T15:11:11.468893Z\", \"end_time\": \"2020-12-04T15:11:38.549072Z\", \"created_time\": \"2020-12-04T15:11:11.023525Z\", \"created_time_dt\": \"2020-12-04T15:11:11.023525Z\", \"duration\": \"0:00:27\", \"iteration\": \"29\", \"goal\": \"accuracy_max\", \"run_name\": \"SparseNormalizer, ExtremeRandomTrees\", \"run_properties\": \"<azureml.automl.runtime.shared.model_wrappers.SparseNormalizer object at 0x7f7651057278\", \"primary_metric\": 0.95333333, \"best_metric\": 0.96666667}, {\"run_id\": \"AutoML_cd8d6a71-4711-414c-84df-68fa7153efde_30\", \"run_number\": 142, \"metric\": null, \"status\": \"Completed\", \"run_type\": null, \"training_percent\": \"100\", \"start_time\": \"2020-12-04T15:11:41.176706Z\", \"end_time\": \"2020-12-04T15:12:03.967991Z\", \"created_time\": \"2020-12-04T15:11:40.863922Z\", \"created_time_dt\": \"2020-12-04T15:11:40.863922Z\", \"duration\": \"0:00:23\", \"iteration\": \"30\", \"goal\": \"accuracy_max\", \"run_name\": \"MaxAbsScaler, ExtremeRandomTrees\", \"run_properties\": \"copy=True\", \"primary_metric\": 0.94666667, \"best_metric\": 0.96666667}, {\"run_id\": \"AutoML_cd8d6a71-4711-414c-84df-68fa7153efde_31\", \"run_number\": 143, \"metric\": null, \"status\": \"Completed\", \"run_type\": null, \"training_percent\": \"100\", \"start_time\": \"2020-12-04T15:12:05.945159Z\", \"end_time\": \"2020-12-04T15:12:28.885789Z\", \"created_time\": \"2020-12-04T15:12:05.611807Z\", \"created_time_dt\": \"2020-12-04T15:12:05.611807Z\", \"duration\": \"0:00:23\", \"iteration\": \"31\", \"goal\": \"accuracy_max\", \"run_name\": \"MinMaxScaler, LightGBM\", \"run_properties\": \"copy=True, feature_range=(0, 1\", \"primary_metric\": 0.94666667, \"best_metric\": 0.96666667}, {\"run_id\": \"AutoML_cd8d6a71-4711-414c-84df-68fa7153efde_32\", \"run_number\": 144, \"metric\": null, \"status\": \"Completed\", \"run_type\": null, \"training_percent\": \"100\", \"start_time\": \"2020-12-04T15:12:30.275456Z\", \"end_time\": \"2020-12-04T15:12:54.261142Z\", \"created_time\": \"2020-12-04T15:12:30.131317Z\", \"created_time_dt\": \"2020-12-04T15:12:30.131317Z\", \"duration\": \"0:00:24\", \"iteration\": \"32\", \"goal\": \"accuracy_max\", \"run_name\": \"StandardScalerWrapper, LightGBM\", \"run_properties\": \"<azureml.automl.runtime.shared.model_wrappers.StandardScalerWrapper object at 0x7f7650e695f8\", \"primary_metric\": 0.92666667, \"best_metric\": 0.96666667}, {\"run_id\": \"AutoML_cd8d6a71-4711-414c-84df-68fa7153efde_33\", \"run_number\": 145, \"metric\": null, \"status\": \"Completed\", \"run_type\": null, \"training_percent\": \"100\", \"start_time\": \"2020-12-04T15:12:55.110459Z\", \"end_time\": \"2020-12-04T15:13:27.419705Z\", \"created_time\": \"2020-12-04T15:12:54.816765Z\", \"created_time_dt\": \"2020-12-04T15:12:54.816765Z\", \"duration\": \"0:00:32\", \"iteration\": \"33\", \"goal\": \"accuracy_max\", \"run_name\": \"VotingEnsemble\", \"run_properties\": \"classification_labels=None,\\n                              estimators=[('20',\\n                                           Pipeline(memory=None,\\n                                                    steps=[('standardscalerwrapper',\\n                                                            <azureml.automl.runtime.shared.model_wrappers.StandardScalerWrapper object at 0x7f7650420a20>\", \"primary_metric\": 0.96666667, \"best_metric\": 0.96666667}, {\"run_id\": \"AutoML_cd8d6a71-4711-414c-84df-68fa7153efde_34\", \"run_number\": 146, \"metric\": null, \"status\": \"Completed\", \"run_type\": null, \"training_percent\": \"100\", \"start_time\": \"2020-12-04T15:13:28.354319Z\", \"end_time\": \"2020-12-04T15:14:04.60468Z\", \"created_time\": \"2020-12-04T15:13:28.037701Z\", \"created_time_dt\": \"2020-12-04T15:13:28.037701Z\", \"duration\": \"0:00:36\", \"iteration\": \"34\", \"goal\": \"accuracy_max\", \"run_name\": \"StackEnsemble\", \"run_properties\": \"base_learners=[('20',\\n                                        Pipeline(memory=None,\\n                                                 steps=[('standardscalerwrapper',\\n                                                         <azureml.automl.runtime.shared.model_wrappers.StandardScalerWrapper object at 0x7f7649288f98>\", \"primary_metric\": 0.96, \"best_metric\": 0.96666667}], \"children_metrics\": {\"categories\": [0], \"series\": {\"precision_score_weighted\": [{\"categories\": [\"0\", \"1\", \"2\", \"3\", \"4\", \"5\", \"6\", \"7\", \"8\", \"9\", \"10\", \"11\", \"12\", \"13\", \"14\", \"15\", \"16\", \"17\", \"18\", \"19\", \"20\", \"21\", \"22\", \"23\", \"24\", \"25\", \"26\", \"27\", \"28\", \"29\", \"30\", \"31\", \"32\", \"33\", \"34\"], \"mode\": \"markers\", \"name\": \"precision_score_weighted\", \"stepped\": false, \"type\": \"scatter\", \"data\": [0.9313280053280053, 0.9631774891774892, 0.9615584415584417, 0.9131892551892552, 0.9546825396825398, 0.8806380090497736, 0.9482251082251082, 0.9631774891774892, 0.9501298701298702, 0.8603211233211233, 0.8942821503115621, 0.7261094953664613, 0.9576097236097236, 0.742737195552985, 0.9687619047619048, 0.9377128427128426, 0.9631774891774892, 0.942113997113997, 0.882785409035409, 0.9551616161616161, 0.9688917748917749, 0.9281551781551782, 0.9452499352499352, 0.9141635031635031, 0.9555584415584416, 0.9322181522181522, 0.9555584415584416, 0.9567965367965368, 0.9559552669552669, 0.9582449494949495, 0.9482251082251082, 0.9494473304473304, 0.9296854256854257, 0.9688917748917749, 0.9631774891774892]}, {\"categories\": [\"0\", \"1\", \"2\", \"3\", \"4\", \"5\", \"6\", \"7\", \"8\", \"9\", \"10\", \"11\", \"12\", \"13\", \"14\", \"15\", \"16\", \"17\", \"18\", \"19\", \"20\", \"21\", \"22\", \"23\", \"24\", \"25\", \"26\", \"27\", \"28\", \"29\", \"30\", \"31\", \"32\", \"33\", \"34\"], \"mode\": \"lines\", \"name\": \"precision_score_weighted_max\", \"stepped\": true, \"type\": \"scatter\", \"data\": [0.9313280053280053, 0.9631774891774892, 0.9631774891774892, 0.9631774891774892, 0.9631774891774892, 0.9631774891774892, 0.9631774891774892, 0.9631774891774892, 0.9631774891774892, 0.9631774891774892, 0.9631774891774892, 0.9631774891774892, 0.9631774891774892, 0.9631774891774892, 0.9687619047619048, 0.9687619047619048, 0.9687619047619048, 0.9687619047619048, 0.9687619047619048, 0.9687619047619048, 0.9688917748917749, 0.9688917748917749, 0.9688917748917749, 0.9688917748917749, 0.9688917748917749, 0.9688917748917749, 0.9688917748917749, 0.9688917748917749, 0.9688917748917749, 0.9688917748917749, 0.9688917748917749, 0.9688917748917749, 0.9688917748917749, 0.9688917748917749, 0.9688917748917749]}], \"precision_score_micro\": [{\"categories\": [\"0\", \"1\", \"2\", \"3\", \"4\", \"5\", \"6\", \"7\", \"8\", \"9\", \"10\", \"11\", \"12\", \"13\", \"14\", \"15\", \"16\", \"17\", \"18\", \"19\", \"20\", \"21\", \"22\", \"23\", \"24\", \"25\", \"26\", \"27\", \"28\", \"29\", \"30\", \"31\", \"32\", \"33\", \"34\"], \"mode\": \"markers\", \"name\": \"precision_score_micro\", \"stepped\": false, \"type\": \"scatter\", \"data\": [0.9266666666666665, 0.96, 0.9600000000000002, 0.9, 0.9533333333333334, 0.8266666666666668, 0.9400000000000001, 0.96, 0.9466666666666667, 0.8333333333333333, 0.8666666666666668, 0.7066666666666667, 0.9533333333333334, 0.7533333333333334, 0.9666666666666668, 0.9266666666666665, 0.96, 0.9333333333333333, 0.8200000000000001, 0.9533333333333334, 0.9666666666666668, 0.9133333333333333, 0.9333333333333332, 0.9066666666666666, 0.9533333333333334, 0.8933333333333333, 0.9533333333333334, 0.9533333333333334, 0.9533333333333334, 0.9533333333333334, 0.9466666666666667, 0.9466666666666667, 0.9266666666666665, 0.9666666666666668, 0.96]}, {\"categories\": [\"0\", \"1\", \"2\", \"3\", \"4\", \"5\", \"6\", \"7\", \"8\", \"9\", \"10\", \"11\", \"12\", \"13\", \"14\", \"15\", \"16\", \"17\", \"18\", \"19\", \"20\", \"21\", \"22\", \"23\", \"24\", \"25\", \"26\", \"27\", \"28\", \"29\", \"30\", \"31\", \"32\", \"33\", \"34\"], \"mode\": \"lines\", \"name\": \"precision_score_micro_max\", \"stepped\": true, \"type\": \"scatter\", \"data\": [0.9266666666666665, 0.96, 0.9600000000000002, 0.9600000000000002, 0.9600000000000002, 0.9600000000000002, 0.9600000000000002, 0.9600000000000002, 0.9600000000000002, 0.9600000000000002, 0.9600000000000002, 0.9600000000000002, 0.9600000000000002, 0.9600000000000002, 0.9666666666666668, 0.9666666666666668, 0.9666666666666668, 0.9666666666666668, 0.9666666666666668, 0.9666666666666668, 0.9666666666666668, 0.9666666666666668, 0.9666666666666668, 0.9666666666666668, 0.9666666666666668, 0.9666666666666668, 0.9666666666666668, 0.9666666666666668, 0.9666666666666668, 0.9666666666666668, 0.9666666666666668, 0.9666666666666668, 0.9666666666666668, 0.9666666666666668, 0.9666666666666668]}], \"AUC_micro\": [{\"categories\": [\"0\", \"1\", \"2\", \"3\", \"4\", \"5\", \"6\", \"7\", \"8\", \"9\", \"10\", \"11\", \"12\", \"13\", \"14\", \"15\", \"16\", \"17\", \"18\", \"19\", \"20\", \"21\", \"22\", \"23\", \"24\", \"25\", \"26\", \"27\", \"28\", \"29\", \"30\", \"31\", \"32\", \"33\", \"34\"], \"mode\": \"markers\", \"name\": \"AUC_micro\", \"stepped\": false, \"type\": \"scatter\", \"data\": [0.9863333333333333, 0.9896666666666667, 0.9952222222222222, 0.977888888888889, 0.9928888888888888, 0.9407777777777777, 0.9849444444444444, 0.9972222222222221, 0.9937777777777779, 0.958, 0.962111111111111, 0.936888888888889, 0.9967777777777778, 0.9412222222222223, 0.9976666666666667, 0.9928888888888888, 0.9938888888888888, 0.9893888888888889, 0.9359999999999999, 0.9962222222222221, 0.9954444444444445, 0.9888888888888889, 0.9942222222222222, 0.9824444444444446, 0.9977777777777778, 0.9705555555555556, 0.9976666666666667, 0.9891111111111112, 0.9946666666666667, 0.9956666666666667, 0.9970000000000001, 0.9847777777777779, 0.9814444444444443, 0.9983333333333334, 0.9874444444444445]}, {\"categories\": [\"0\", \"1\", \"2\", \"3\", \"4\", \"5\", \"6\", \"7\", \"8\", \"9\", \"10\", \"11\", \"12\", \"13\", \"14\", \"15\", \"16\", \"17\", \"18\", \"19\", \"20\", \"21\", \"22\", \"23\", \"24\", \"25\", \"26\", \"27\", \"28\", \"29\", \"30\", \"31\", \"32\", \"33\", \"34\"], \"mode\": \"lines\", \"name\": \"AUC_micro_max\", \"stepped\": true, \"type\": \"scatter\", \"data\": [0.9863333333333333, 0.9896666666666667, 0.9952222222222222, 0.9952222222222222, 0.9952222222222222, 0.9952222222222222, 0.9952222222222222, 0.9972222222222221, 0.9972222222222221, 0.9972222222222221, 0.9972222222222221, 0.9972222222222221, 0.9972222222222221, 0.9972222222222221, 0.9976666666666667, 0.9976666666666667, 0.9976666666666667, 0.9976666666666667, 0.9976666666666667, 0.9976666666666667, 0.9976666666666667, 0.9976666666666667, 0.9976666666666667, 0.9976666666666667, 0.9977777777777778, 0.9977777777777778, 0.9977777777777778, 0.9977777777777778, 0.9977777777777778, 0.9977777777777778, 0.9977777777777778, 0.9977777777777778, 0.9977777777777778, 0.9983333333333334, 0.9983333333333334]}], \"average_precision_score_micro\": [{\"categories\": [\"0\", \"1\", \"2\", \"3\", \"4\", \"5\", \"6\", \"7\", \"8\", \"9\", \"10\", \"11\", \"12\", \"13\", \"14\", \"15\", \"16\", \"17\", \"18\", \"19\", \"20\", \"21\", \"22\", \"23\", \"24\", \"25\", \"26\", \"27\", \"28\", \"29\", \"30\", \"31\", \"32\", \"33\", \"34\"], \"mode\": \"markers\", \"name\": \"average_precision_score_micro\", \"stepped\": false, \"type\": \"scatter\", \"data\": [0.974904814373101, 0.9789758892626148, 0.9903500002253912, 0.9605046053941722, 0.9866728716817882, 0.904563710515714, 0.9673673753124238, 0.9946984413558086, 0.9888147748361945, 0.9286719023832996, 0.9364896159544956, 0.8962665127786931, 0.993937615679922, 0.9022972917712598, 0.9953354553496923, 0.9866272204375506, 0.9895414769187442, 0.9781642712676316, 0.8983264600882916, 0.992836329048463, 0.9912013952936464, 0.9795955212847449, 0.9892470800137767, 0.9690753560941155, 0.9957747098890117, 0.9490193718684704, 0.9955573821462009, 0.9764966987452178, 0.9902606170216881, 0.9920781989997021, 0.9943125197289246, 0.9729628354903218, 0.9634596311569373, 0.9968218362715027, 0.9813184215142552]}, {\"categories\": [\"0\", \"1\", \"2\", \"3\", \"4\", \"5\", \"6\", \"7\", \"8\", \"9\", \"10\", \"11\", \"12\", \"13\", \"14\", \"15\", \"16\", \"17\", \"18\", \"19\", \"20\", \"21\", \"22\", \"23\", \"24\", \"25\", \"26\", \"27\", \"28\", \"29\", \"30\", \"31\", \"32\", \"33\", \"34\"], \"mode\": \"lines\", \"name\": \"average_precision_score_micro_max\", \"stepped\": true, \"type\": \"scatter\", \"data\": [0.974904814373101, 0.9789758892626148, 0.9903500002253912, 0.9903500002253912, 0.9903500002253912, 0.9903500002253912, 0.9903500002253912, 0.9946984413558086, 0.9946984413558086, 0.9946984413558086, 0.9946984413558086, 0.9946984413558086, 0.9946984413558086, 0.9946984413558086, 0.9953354553496923, 0.9953354553496923, 0.9953354553496923, 0.9953354553496923, 0.9953354553496923, 0.9953354553496923, 0.9953354553496923, 0.9953354553496923, 0.9953354553496923, 0.9953354553496923, 0.9957747098890117, 0.9957747098890117, 0.9957747098890117, 0.9957747098890117, 0.9957747098890117, 0.9957747098890117, 0.9957747098890117, 0.9957747098890117, 0.9957747098890117, 0.9968218362715027, 0.9968218362715027]}], \"AUC_macro\": [{\"categories\": [\"0\", \"1\", \"2\", \"3\", \"4\", \"5\", \"6\", \"7\", \"8\", \"9\", \"10\", \"11\", \"12\", \"13\", \"14\", \"15\", \"16\", \"17\", \"18\", \"19\", \"20\", \"21\", \"22\", \"23\", \"24\", \"25\", \"26\", \"27\", \"28\", \"29\", \"30\", \"31\", \"32\", \"33\", \"34\"], \"mode\": \"markers\", \"name\": \"AUC_macro\", \"stepped\": false, \"type\": \"scatter\", \"data\": [0.9896810870969798, 0.990533195753526, 0.9955143114921234, 0.9704483201696824, 0.9915692206352681, 0.9117861137066503, 0.983941804077511, 0.9973080341093755, 0.992449718095229, 0.9458112125996543, 0.9600172494821617, 0.9688317873503631, 0.9966088406490883, 0.947502920444613, 0.9946886253581301, 0.9931271104196799, 0.9932213097073778, 0.989493400151811, 0.9081190040132249, 0.9951285575449662, 0.9938204342574828, 0.9879799663700594, 0.996923626215164, 0.9831611507019143, 0.9978501174321608, 0.974611992563489, 0.9986147395203122, 0.9950344374216924, 0.994032150321108, 0.9957131377776373, 0.9966873957178395, 0.9854917707373849, 0.9826866427728141, 0.9973080341093755, 0.9918314126915778]}, {\"categories\": [\"0\", \"1\", \"2\", \"3\", \"4\", \"5\", \"6\", \"7\", \"8\", \"9\", \"10\", \"11\", \"12\", \"13\", \"14\", \"15\", \"16\", \"17\", \"18\", \"19\", \"20\", \"21\", \"22\", \"23\", \"24\", \"25\", \"26\", \"27\", \"28\", \"29\", \"30\", \"31\", \"32\", \"33\", \"34\"], \"mode\": \"lines\", \"name\": \"AUC_macro_max\", \"stepped\": true, \"type\": \"scatter\", \"data\": [0.9896810870969798, 0.990533195753526, 0.9955143114921234, 0.9955143114921234, 0.9955143114921234, 0.9955143114921234, 0.9955143114921234, 0.9973080341093755, 0.9973080341093755, 0.9973080341093755, 0.9973080341093755, 0.9973080341093755, 0.9973080341093755, 0.9973080341093755, 0.9973080341093755, 0.9973080341093755, 0.9973080341093755, 0.9973080341093755, 0.9973080341093755, 0.9973080341093755, 0.9973080341093755, 0.9973080341093755, 0.9973080341093755, 0.9973080341093755, 0.9978501174321608, 0.9978501174321608, 0.9986147395203122, 0.9986147395203122, 0.9986147395203122, 0.9986147395203122, 0.9986147395203122, 0.9986147395203122, 0.9986147395203122, 0.9986147395203122, 0.9986147395203122]}], \"f1_score_weighted\": [{\"categories\": [\"0\", \"1\", \"2\", \"3\", \"4\", \"5\", \"6\", \"7\", \"8\", \"9\", \"10\", \"11\", \"12\", \"13\", \"14\", \"15\", \"16\", \"17\", \"18\", \"19\", \"20\", \"21\", \"22\", \"23\", \"24\", \"25\", \"26\", \"27\", \"28\", \"29\", \"30\", \"31\", \"32\", \"33\", \"34\"], \"mode\": \"markers\", \"name\": \"f1_score_weighted\", \"stepped\": false, \"type\": \"scatter\", \"data\": [0.9270827838827838, 0.960220757020757, 0.9601230769230771, 0.9005814361824591, 0.9537025641025642, 0.8189841269841269, 0.9407933322715932, 0.960220757020757, 0.9470827838827839, 0.8321465825387394, 0.8666533789069796, 0.6356200626959249, 0.9534310134310134, 0.7293131656632172, 0.9667290733957401, 0.9273828759934023, 0.960220757020757, 0.934161448213622, 0.8083422576860906, 0.9533449275362319, 0.9667897435897437, 0.9143401043401044, 0.9303417668142526, 0.9077533577533577, 0.9534310134310134, 0.8910200138026225, 0.9534310134310134, 0.9536517704517704, 0.9537025641025642, 0.9526307659567346, 0.9467643467643467, 0.9467991293730422, 0.9268923076923077, 0.9667897435897437, 0.960220757020757]}, {\"categories\": [\"0\", \"1\", \"2\", \"3\", \"4\", \"5\", \"6\", \"7\", \"8\", \"9\", \"10\", \"11\", \"12\", \"13\", \"14\", \"15\", \"16\", \"17\", \"18\", \"19\", \"20\", \"21\", \"22\", \"23\", \"24\", \"25\", \"26\", \"27\", \"28\", \"29\", \"30\", \"31\", \"32\", \"33\", \"34\"], \"mode\": \"lines\", \"name\": \"f1_score_weighted_max\", \"stepped\": true, \"type\": \"scatter\", \"data\": [0.9270827838827838, 0.960220757020757, 0.960220757020757, 0.960220757020757, 0.960220757020757, 0.960220757020757, 0.960220757020757, 0.960220757020757, 0.960220757020757, 0.960220757020757, 0.960220757020757, 0.960220757020757, 0.960220757020757, 0.960220757020757, 0.9667290733957401, 0.9667290733957401, 0.9667290733957401, 0.9667290733957401, 0.9667290733957401, 0.9667290733957401, 0.9667897435897437, 0.9667897435897437, 0.9667897435897437, 0.9667897435897437, 0.9667897435897437, 0.9667897435897437, 0.9667897435897437, 0.9667897435897437, 0.9667897435897437, 0.9667897435897437, 0.9667897435897437, 0.9667897435897437, 0.9667897435897437, 0.9667897435897437, 0.9667897435897437]}], \"AUC_weighted\": [{\"categories\": [\"0\", \"1\", \"2\", \"3\", \"4\", \"5\", \"6\", \"7\", \"8\", \"9\", \"10\", \"11\", \"12\", \"13\", \"14\", \"15\", \"16\", \"17\", \"18\", \"19\", \"20\", \"21\", \"22\", \"23\", \"24\", \"25\", \"26\", \"27\", \"28\", \"29\", \"30\", \"31\", \"32\", \"33\", \"34\"], \"mode\": \"markers\", \"name\": \"AUC_weighted\", \"stepped\": false, \"type\": \"scatter\", \"data\": [0.9889883532360312, 0.9894027470637378, 0.9955470784805149, 0.9708865300506166, 0.9911049683031106, 0.9085979163595261, 0.9830976215047421, 0.9971932035972284, 0.9924991154356478, 0.9452927416580668, 0.9593529657477026, 0.9673826969384244, 0.9964310285517716, 0.9462575310826085, 0.9947768317853457, 0.9937278736055826, 0.9922824217406261, 0.9890821170573492, 0.904828910511573, 0.9951945304437564, 0.9932193965305421, 0.987203302373581, 0.9969345668091798, 0.9826292692515602, 0.9979170966632267, 0.9736987075531968, 0.9985870313037495, 0.995220121381886, 0.9935862204530936, 0.9954388176323162, 0.9964501695415008, 0.9843784461152882, 0.9814315936901077, 0.9971932035972282, 0.991173595754091]}, {\"categories\": [\"0\", \"1\", \"2\", \"3\", \"4\", \"5\", \"6\", \"7\", \"8\", \"9\", \"10\", \"11\", \"12\", \"13\", \"14\", \"15\", \"16\", \"17\", \"18\", \"19\", \"20\", \"21\", \"22\", \"23\", \"24\", \"25\", \"26\", \"27\", \"28\", \"29\", \"30\", \"31\", \"32\", \"33\", \"34\"], \"mode\": \"lines\", \"name\": \"AUC_weighted_max\", \"stepped\": true, \"type\": \"scatter\", \"data\": [0.9889883532360312, 0.9894027470637378, 0.9955470784805149, 0.9955470784805149, 0.9955470784805149, 0.9955470784805149, 0.9955470784805149, 0.9971932035972284, 0.9971932035972284, 0.9971932035972284, 0.9971932035972284, 0.9971932035972284, 0.9971932035972284, 0.9971932035972284, 0.9971932035972284, 0.9971932035972284, 0.9971932035972284, 0.9971932035972284, 0.9971932035972284, 0.9971932035972284, 0.9971932035972284, 0.9971932035972284, 0.9971932035972284, 0.9971932035972284, 0.9979170966632267, 0.9979170966632267, 0.9985870313037495, 0.9985870313037495, 0.9985870313037495, 0.9985870313037495, 0.9985870313037495, 0.9985870313037495, 0.9985870313037495, 0.9985870313037495, 0.9985870313037495]}], \"balanced_accuracy\": [{\"categories\": [\"0\", \"1\", \"2\", \"3\", \"4\", \"5\", \"6\", \"7\", \"8\", \"9\", \"10\", \"11\", \"12\", \"13\", \"14\", \"15\", \"16\", \"17\", \"18\", \"19\", \"20\", \"21\", \"22\", \"23\", \"24\", \"25\", \"26\", \"27\", \"28\", \"29\", \"30\", \"31\", \"32\", \"33\", \"34\"], \"mode\": \"markers\", \"name\": \"balanced_accuracy\", \"stepped\": false, \"type\": \"scatter\", \"data\": [0.9300595700595702, 0.964895104895105, 0.9635483035483036, 0.9056721056721058, 0.9533695933695935, 0.8352602952602952, 0.9472312872312874, 0.964895104895105, 0.9477233877233878, 0.8465630665630666, 0.8711162911162911, 0.7054545454545453, 0.9547163947163947, 0.7706967106967106, 0.964972804972805, 0.9298679098679099, 0.964895104895105, 0.942103082103082, 0.8285936285936286, 0.9487334887334888, 0.970955710955711, 0.924988344988345, 0.9273400673400672, 0.9086920486920487, 0.9537839937839937, 0.9074592074592076, 0.9537839937839937, 0.9574876974876976, 0.9547163947163948, 0.9505723905723906, 0.9463765863765865, 0.9486557886557886, 0.9263558663558664, 0.970955710955711, 0.964895104895105]}, {\"categories\": [\"0\", \"1\", \"2\", \"3\", \"4\", \"5\", \"6\", \"7\", \"8\", \"9\", \"10\", \"11\", \"12\", \"13\", \"14\", \"15\", \"16\", \"17\", \"18\", \"19\", \"20\", \"21\", \"22\", \"23\", \"24\", \"25\", \"26\", \"27\", \"28\", \"29\", \"30\", \"31\", \"32\", \"33\", \"34\"], \"mode\": \"lines\", \"name\": \"balanced_accuracy_max\", \"stepped\": true, \"type\": \"scatter\", \"data\": [0.9300595700595702, 0.964895104895105, 0.964895104895105, 0.964895104895105, 0.964895104895105, 0.964895104895105, 0.964895104895105, 0.964895104895105, 0.964895104895105, 0.964895104895105, 0.964895104895105, 0.964895104895105, 0.964895104895105, 0.964895104895105, 0.964972804972805, 0.964972804972805, 0.964972804972805, 0.964972804972805, 0.964972804972805, 0.964972804972805, 0.970955710955711, 0.970955710955711, 0.970955710955711, 0.970955710955711, 0.970955710955711, 0.970955710955711, 0.970955710955711, 0.970955710955711, 0.970955710955711, 0.970955710955711, 0.970955710955711, 0.970955710955711, 0.970955710955711, 0.970955710955711, 0.970955710955711]}], \"recall_score_micro\": [{\"categories\": [\"0\", \"1\", \"2\", \"3\", \"4\", \"5\", \"6\", \"7\", \"8\", \"9\", \"10\", \"11\", \"12\", \"13\", \"14\", \"15\", \"16\", \"17\", \"18\", \"19\", \"20\", \"21\", \"22\", \"23\", \"24\", \"25\", \"26\", \"27\", \"28\", \"29\", \"30\", \"31\", \"32\", \"33\", \"34\"], \"mode\": \"markers\", \"name\": \"recall_score_micro\", \"stepped\": false, \"type\": \"scatter\", \"data\": [0.9266666666666665, 0.96, 0.9600000000000002, 0.9, 0.9533333333333334, 0.8266666666666668, 0.9400000000000001, 0.96, 0.9466666666666667, 0.8333333333333333, 0.8666666666666668, 0.7066666666666667, 0.9533333333333334, 0.7533333333333334, 0.9666666666666668, 0.9266666666666665, 0.96, 0.9333333333333333, 0.8200000000000001, 0.9533333333333334, 0.9666666666666668, 0.9133333333333333, 0.9333333333333332, 0.9066666666666666, 0.9533333333333334, 0.8933333333333333, 0.9533333333333334, 0.9533333333333334, 0.9533333333333334, 0.9533333333333334, 0.9466666666666667, 0.9466666666666667, 0.9266666666666665, 0.9666666666666668, 0.96]}, {\"categories\": [\"0\", \"1\", \"2\", \"3\", \"4\", \"5\", \"6\", \"7\", \"8\", \"9\", \"10\", \"11\", \"12\", \"13\", \"14\", \"15\", \"16\", \"17\", \"18\", \"19\", \"20\", \"21\", \"22\", \"23\", \"24\", \"25\", \"26\", \"27\", \"28\", \"29\", \"30\", \"31\", \"32\", \"33\", \"34\"], \"mode\": \"lines\", \"name\": \"recall_score_micro_max\", \"stepped\": true, \"type\": \"scatter\", \"data\": [0.9266666666666665, 0.96, 0.9600000000000002, 0.9600000000000002, 0.9600000000000002, 0.9600000000000002, 0.9600000000000002, 0.9600000000000002, 0.9600000000000002, 0.9600000000000002, 0.9600000000000002, 0.9600000000000002, 0.9600000000000002, 0.9600000000000002, 0.9666666666666668, 0.9666666666666668, 0.9666666666666668, 0.9666666666666668, 0.9666666666666668, 0.9666666666666668, 0.9666666666666668, 0.9666666666666668, 0.9666666666666668, 0.9666666666666668, 0.9666666666666668, 0.9666666666666668, 0.9666666666666668, 0.9666666666666668, 0.9666666666666668, 0.9666666666666668, 0.9666666666666668, 0.9666666666666668, 0.9666666666666668, 0.9666666666666668, 0.9666666666666668]}], \"norm_macro_recall\": [{\"categories\": [\"0\", \"1\", \"2\", \"3\", \"4\", \"5\", \"6\", \"7\", \"8\", \"9\", \"10\", \"11\", \"12\", \"13\", \"14\", \"15\", \"16\", \"17\", \"18\", \"19\", \"20\", \"21\", \"22\", \"23\", \"24\", \"25\", \"26\", \"27\", \"28\", \"29\", \"30\", \"31\", \"32\", \"33\", \"34\"], \"mode\": \"markers\", \"name\": \"norm_macro_recall\", \"stepped\": false, \"type\": \"scatter\", \"data\": [0.895089355089355, 0.9473426573426573, 0.9453224553224555, 0.8585081585081585, 0.9300543900543901, 0.7528904428904427, 0.9208469308469308, 0.9473426573426573, 0.9215850815850816, 0.7698445998445997, 0.8066744366744366, 0.5581818181818181, 0.9320745920745921, 0.656045066045066, 0.9474592074592074, 0.8948018648018646, 0.9473426573426573, 0.9131546231546231, 0.7428904428904428, 0.9231002331002329, 0.9564335664335666, 0.8874825174825174, 0.8910101010101009, 0.8630380730380731, 0.9306759906759907, 0.8611888111888112, 0.9306759906759907, 0.9362315462315463, 0.9320745920745921, 0.9258585858585858, 0.9195648795648796, 0.9229836829836829, 0.8895337995337995, 0.9564335664335666, 0.9473426573426573]}, {\"categories\": [\"0\", \"1\", \"2\", \"3\", \"4\", \"5\", \"6\", \"7\", \"8\", \"9\", \"10\", \"11\", \"12\", \"13\", \"14\", \"15\", \"16\", \"17\", \"18\", \"19\", \"20\", \"21\", \"22\", \"23\", \"24\", \"25\", \"26\", \"27\", \"28\", \"29\", \"30\", \"31\", \"32\", \"33\", \"34\"], \"mode\": \"lines\", \"name\": \"norm_macro_recall_max\", \"stepped\": true, \"type\": \"scatter\", \"data\": [0.895089355089355, 0.9473426573426573, 0.9473426573426573, 0.9473426573426573, 0.9473426573426573, 0.9473426573426573, 0.9473426573426573, 0.9473426573426573, 0.9473426573426573, 0.9473426573426573, 0.9473426573426573, 0.9473426573426573, 0.9473426573426573, 0.9473426573426573, 0.9474592074592074, 0.9474592074592074, 0.9474592074592074, 0.9474592074592074, 0.9474592074592074, 0.9474592074592074, 0.9564335664335666, 0.9564335664335666, 0.9564335664335666, 0.9564335664335666, 0.9564335664335666, 0.9564335664335666, 0.9564335664335666, 0.9564335664335666, 0.9564335664335666, 0.9564335664335666, 0.9564335664335666, 0.9564335664335666, 0.9564335664335666, 0.9564335664335666, 0.9564335664335666]}], \"precision_score_macro\": [{\"categories\": [\"0\", \"1\", \"2\", \"3\", \"4\", \"5\", \"6\", \"7\", \"8\", \"9\", \"10\", \"11\", \"12\", \"13\", \"14\", \"15\", \"16\", \"17\", \"18\", \"19\", \"20\", \"21\", \"22\", \"23\", \"24\", \"25\", \"26\", \"27\", \"28\", \"29\", \"30\", \"31\", \"32\", \"33\", \"34\"], \"mode\": \"markers\", \"name\": \"precision_score_macro\", \"stepped\": false, \"type\": \"scatter\", \"data\": [0.9231820031820032, 0.9570362970362971, 0.9591526991526992, 0.9002271802271803, 0.95013394013394, 0.8721320836026718, 0.9369304769304769, 0.9570362970362971, 0.940845820845821, 0.8518376068376068, 0.8856799518564225, 0.710991233282255, 0.9512531912531912, 0.7348031403294562, 0.962808302808303, 0.9238039738039738, 0.9570362970362971, 0.9314526214526214, 0.8748626373626373, 0.9483061383061383, 0.9665601065601066, 0.9153712953712955, 0.9510903910903912, 0.9016452066452066, 0.9503207903207904, 0.9110907610907611, 0.9503207903207904, 0.9461656861656863, 0.9514807414807415, 0.9618097643097643, 0.9429133829133829, 0.9448429348429348, 0.9182972582972584, 0.9665601065601066, 0.9570362970362971]}, {\"categories\": [\"0\", \"1\", \"2\", \"3\", \"4\", \"5\", \"6\", \"7\", \"8\", \"9\", \"10\", \"11\", \"12\", \"13\", \"14\", \"15\", \"16\", \"17\", \"18\", \"19\", \"20\", \"21\", \"22\", \"23\", \"24\", \"25\", \"26\", \"27\", \"28\", \"29\", \"30\", \"31\", \"32\", \"33\", \"34\"], \"mode\": \"lines\", \"name\": \"precision_score_macro_max\", \"stepped\": true, \"type\": \"scatter\", \"data\": [0.9231820031820032, 0.9570362970362971, 0.9591526991526992, 0.9591526991526992, 0.9591526991526992, 0.9591526991526992, 0.9591526991526992, 0.9591526991526992, 0.9591526991526992, 0.9591526991526992, 0.9591526991526992, 0.9591526991526992, 0.9591526991526992, 0.9591526991526992, 0.962808302808303, 0.962808302808303, 0.962808302808303, 0.962808302808303, 0.962808302808303, 0.962808302808303, 0.9665601065601066, 0.9665601065601066, 0.9665601065601066, 0.9665601065601066, 0.9665601065601066, 0.9665601065601066, 0.9665601065601066, 0.9665601065601066, 0.9665601065601066, 0.9665601065601066, 0.9665601065601066, 0.9665601065601066, 0.9665601065601066, 0.9665601065601066, 0.9665601065601066]}], \"matthews_correlation\": [{\"categories\": [\"0\", \"1\", \"2\", \"3\", \"4\", \"5\", \"6\", \"7\", \"8\", \"9\", \"10\", \"11\", \"12\", \"13\", \"14\", \"15\", \"16\", \"17\", \"18\", \"19\", \"20\", \"21\", \"22\", \"23\", \"24\", \"25\", \"26\", \"27\", \"28\", \"29\", \"30\", \"31\", \"32\", \"33\", \"34\"], \"mode\": \"markers\", \"name\": \"matthews_correlation\", \"stepped\": false, \"type\": \"scatter\", \"data\": [0.8890343666997488, 0.9396761976412005, 0.9393383576519664, 0.8544795616313519, 0.9283465919897491, 0.7687002160333904, 0.911689235297796, 0.9396761976412005, 0.9189144547982885, 0.7648610720095661, 0.8122797642537763, 0.6506425966929523, 0.9301538352347098, 0.6800900266592886, 0.9492100290469073, 0.8920017322117246, 0.9396761976412005, 0.9016388925465042, 0.7643959625201834, 0.9287034906810703, 0.9497062506285552, 0.8754656014864193, 0.9042330982406428, 0.8593216739100578, 0.9287601070117134, 0.8607523272620226, 0.9287601070117134, 0.9298033036007493, 0.9290154883108194, 0.9311147178753598, 0.9183922140351246, 0.9187097642604216, 0.8879895121187553, 0.9497062506285552, 0.9396761976412005]}, {\"categories\": [\"0\", \"1\", \"2\", \"3\", \"4\", \"5\", \"6\", \"7\", \"8\", \"9\", \"10\", \"11\", \"12\", \"13\", \"14\", \"15\", \"16\", \"17\", \"18\", \"19\", \"20\", \"21\", \"22\", \"23\", \"24\", \"25\", \"26\", \"27\", \"28\", \"29\", \"30\", \"31\", \"32\", \"33\", \"34\"], \"mode\": \"lines\", \"name\": \"matthews_correlation_max\", \"stepped\": true, \"type\": \"scatter\", \"data\": [0.8890343666997488, 0.9396761976412005, 0.9396761976412005, 0.9396761976412005, 0.9396761976412005, 0.9396761976412005, 0.9396761976412005, 0.9396761976412005, 0.9396761976412005, 0.9396761976412005, 0.9396761976412005, 0.9396761976412005, 0.9396761976412005, 0.9396761976412005, 0.9492100290469073, 0.9492100290469073, 0.9492100290469073, 0.9492100290469073, 0.9492100290469073, 0.9492100290469073, 0.9497062506285552, 0.9497062506285552, 0.9497062506285552, 0.9497062506285552, 0.9497062506285552, 0.9497062506285552, 0.9497062506285552, 0.9497062506285552, 0.9497062506285552, 0.9497062506285552, 0.9497062506285552, 0.9497062506285552, 0.9497062506285552, 0.9497062506285552, 0.9497062506285552]}], \"average_precision_score_weighted\": [{\"categories\": [\"0\", \"1\", \"2\", \"3\", \"4\", \"5\", \"6\", \"7\", \"8\", \"9\", \"10\", \"11\", \"12\", \"13\", \"14\", \"15\", \"16\", \"17\", \"18\", \"19\", \"20\", \"21\", \"22\", \"23\", \"24\", \"25\", \"26\", \"27\", \"28\", \"29\", \"30\", \"31\", \"32\", \"33\", \"34\"], \"mode\": \"markers\", \"name\": \"average_precision_score_weighted\", \"stepped\": false, \"type\": \"scatter\", \"data\": [0.9804906596671301, 0.9866994610327943, 0.9897815425315425, 0.9541450586450587, 0.9874394755571227, 0.8491673953554757, 0.967337040954688, 0.9952840492840492, 0.9870997227173696, 0.9133010512878933, 0.936192534116447, 0.9332879805379803, 0.993971472971473, 0.8935270457097083, 0.9907443667443667, 0.9880127835127835, 0.9898258038258037, 0.9802252007252006, 0.8461584130237381, 0.9913446553446551, 0.9888634143634143, 0.9795615756792226, 0.9944289784289783, 0.9722828261063556, 0.9963125763125763, 0.9695890644019934, 0.9975396825396825, 0.9878263607737292, 0.9904369796869797, 0.9927077367077366, 0.9943682983682983, 0.9750814555814555, 0.9723034743034742, 0.9952840492840492, 0.9903966033966034]}, {\"categories\": [\"0\", \"1\", \"2\", \"3\", \"4\", \"5\", \"6\", \"7\", \"8\", \"9\", \"10\", \"11\", \"12\", \"13\", \"14\", \"15\", \"16\", \"17\", \"18\", \"19\", \"20\", \"21\", \"22\", \"23\", \"24\", \"25\", \"26\", \"27\", \"28\", \"29\", \"30\", \"31\", \"32\", \"33\", \"34\"], \"mode\": \"lines\", \"name\": \"average_precision_score_weighted_max\", \"stepped\": true, \"type\": \"scatter\", \"data\": [0.9804906596671301, 0.9866994610327943, 0.9897815425315425, 0.9897815425315425, 0.9897815425315425, 0.9897815425315425, 0.9897815425315425, 0.9952840492840492, 0.9952840492840492, 0.9952840492840492, 0.9952840492840492, 0.9952840492840492, 0.9952840492840492, 0.9952840492840492, 0.9952840492840492, 0.9952840492840492, 0.9952840492840492, 0.9952840492840492, 0.9952840492840492, 0.9952840492840492, 0.9952840492840492, 0.9952840492840492, 0.9952840492840492, 0.9952840492840492, 0.9963125763125763, 0.9963125763125763, 0.9975396825396825, 0.9975396825396825, 0.9975396825396825, 0.9975396825396825, 0.9975396825396825, 0.9975396825396825, 0.9975396825396825, 0.9975396825396825, 0.9975396825396825]}], \"recall_score_macro\": [{\"categories\": [\"0\", \"1\", \"2\", \"3\", \"4\", \"5\", \"6\", \"7\", \"8\", \"9\", \"10\", \"11\", \"12\", \"13\", \"14\", \"15\", \"16\", \"17\", \"18\", \"19\", \"20\", \"21\", \"22\", \"23\", \"24\", \"25\", \"26\", \"27\", \"28\", \"29\", \"30\", \"31\", \"32\", \"33\", \"34\"], \"mode\": \"markers\", \"name\": \"recall_score_macro\", \"stepped\": false, \"type\": \"scatter\", \"data\": [0.9300595700595702, 0.964895104895105, 0.9635483035483036, 0.9056721056721058, 0.9533695933695935, 0.8352602952602952, 0.9472312872312874, 0.964895104895105, 0.9477233877233878, 0.8465630665630666, 0.8711162911162911, 0.7054545454545453, 0.9547163947163947, 0.7706967106967106, 0.964972804972805, 0.9298679098679099, 0.964895104895105, 0.942103082103082, 0.8285936285936286, 0.9487334887334888, 0.970955710955711, 0.924988344988345, 0.9273400673400672, 0.9086920486920487, 0.9537839937839937, 0.9074592074592076, 0.9537839937839937, 0.9574876974876976, 0.9547163947163948, 0.9505723905723906, 0.9463765863765865, 0.9486557886557886, 0.9263558663558664, 0.970955710955711, 0.964895104895105]}, {\"categories\": [\"0\", \"1\", \"2\", \"3\", \"4\", \"5\", \"6\", \"7\", \"8\", \"9\", \"10\", \"11\", \"12\", \"13\", \"14\", \"15\", \"16\", \"17\", \"18\", \"19\", \"20\", \"21\", \"22\", \"23\", \"24\", \"25\", \"26\", \"27\", \"28\", \"29\", \"30\", \"31\", \"32\", \"33\", \"34\"], \"mode\": \"lines\", \"name\": \"recall_score_macro_max\", \"stepped\": true, \"type\": \"scatter\", \"data\": [0.9300595700595702, 0.964895104895105, 0.964895104895105, 0.964895104895105, 0.964895104895105, 0.964895104895105, 0.964895104895105, 0.964895104895105, 0.964895104895105, 0.964895104895105, 0.964895104895105, 0.964895104895105, 0.964895104895105, 0.964895104895105, 0.964972804972805, 0.964972804972805, 0.964972804972805, 0.964972804972805, 0.964972804972805, 0.964972804972805, 0.970955710955711, 0.970955710955711, 0.970955710955711, 0.970955710955711, 0.970955710955711, 0.970955710955711, 0.970955710955711, 0.970955710955711, 0.970955710955711, 0.970955710955711, 0.970955710955711, 0.970955710955711, 0.970955710955711, 0.970955710955711, 0.970955710955711]}], \"average_precision_score_macro\": [{\"categories\": [\"0\", \"1\", \"2\", \"3\", \"4\", \"5\", \"6\", \"7\", \"8\", \"9\", \"10\", \"11\", \"12\", \"13\", \"14\", \"15\", \"16\", \"17\", \"18\", \"19\", \"20\", \"21\", \"22\", \"23\", \"24\", \"25\", \"26\", \"27\", \"28\", \"29\", \"30\", \"31\", \"32\", \"33\", \"34\"], \"mode\": \"markers\", \"name\": \"average_precision_score_macro\", \"stepped\": false, \"type\": \"scatter\", \"data\": [0.9807930913031695, 0.9857341676999797, 0.9880261041585829, 0.9502259330211933, 0.9864434005898424, 0.850845782326779, 0.9669345733498573, 0.9950064180833411, 0.9858383088270195, 0.9106047667743983, 0.9337836901183241, 0.9342779397499676, 0.9936112411287237, 0.888761736265014, 0.9893549185856878, 0.9857687907649059, 0.9899051893457488, 0.9796799666418936, 0.8479577806951966, 0.9902592023361254, 0.9891663191624342, 0.9805336636031823, 0.9939669225994011, 0.9708803063651091, 0.9955900936670167, 0.9696919249070278, 0.9971750471750471, 0.9841277256257014, 0.9903165139703601, 0.9926754157523388, 0.9942456403994864, 0.9736200855606449, 0.969831376212495, 0.9950064180833411, 0.9905475436244666]}, {\"categories\": [\"0\", \"1\", \"2\", \"3\", \"4\", \"5\", \"6\", \"7\", \"8\", \"9\", \"10\", \"11\", \"12\", \"13\", \"14\", \"15\", \"16\", \"17\", \"18\", \"19\", \"20\", \"21\", \"22\", \"23\", \"24\", \"25\", \"26\", \"27\", \"28\", \"29\", \"30\", \"31\", \"32\", \"33\", \"34\"], \"mode\": \"lines\", \"name\": \"average_precision_score_macro_max\", \"stepped\": true, \"type\": \"scatter\", \"data\": [0.9807930913031695, 0.9857341676999797, 0.9880261041585829, 0.9880261041585829, 0.9880261041585829, 0.9880261041585829, 0.9880261041585829, 0.9950064180833411, 0.9950064180833411, 0.9950064180833411, 0.9950064180833411, 0.9950064180833411, 0.9950064180833411, 0.9950064180833411, 0.9950064180833411, 0.9950064180833411, 0.9950064180833411, 0.9950064180833411, 0.9950064180833411, 0.9950064180833411, 0.9950064180833411, 0.9950064180833411, 0.9950064180833411, 0.9950064180833411, 0.9955900936670167, 0.9955900936670167, 0.9971750471750471, 0.9971750471750471, 0.9971750471750471, 0.9971750471750471, 0.9971750471750471, 0.9971750471750471, 0.9971750471750471, 0.9971750471750471, 0.9971750471750471]}], \"weighted_accuracy\": [{\"categories\": [\"0\", \"1\", \"2\", \"3\", \"4\", \"5\", \"6\", \"7\", \"8\", \"9\", \"10\", \"11\", \"12\", \"13\", \"14\", \"15\", \"16\", \"17\", \"18\", \"19\", \"20\", \"21\", \"22\", \"23\", \"24\", \"25\", \"26\", \"27\", \"28\", \"29\", \"30\", \"31\", \"32\", \"33\", \"34\"], \"mode\": \"markers\", \"name\": \"weighted_accuracy\", \"stepped\": false, \"type\": \"scatter\", \"data\": [0.9243042294722301, 0.9566448624710517, 0.9574330638280582, 0.8952626660707754, 0.9530613903221873, 0.8202291471986347, 0.9347336773249907, 0.9566448624710517, 0.9462154146182911, 0.8228090846300734, 0.8628245236257263, 0.707536667614675, 0.9517368870109291, 0.7403648478446347, 0.9682241092105798, 0.9248689716816315, 0.9566448624710517, 0.9267582172022915, 0.8141429325965952, 0.9560313655385364, 0.9633933287287206, 0.9036769187014991, 0.9390281558525981, 0.9046723276317392, 0.9529638808759598, 0.8828383374639417, 0.9529638808759598, 0.9506845975703897, 0.9517368870109291, 0.9562060699630276, 0.9470036159752976, 0.9449884207532604, 0.9265835127778004, 0.9633933287287206, 0.9566448624710517]}, {\"categories\": [\"0\", \"1\", \"2\", \"3\", \"4\", \"5\", \"6\", \"7\", \"8\", \"9\", \"10\", \"11\", \"12\", \"13\", \"14\", \"15\", \"16\", \"17\", \"18\", \"19\", \"20\", \"21\", \"22\", \"23\", \"24\", \"25\", \"26\", \"27\", \"28\", \"29\", \"30\", \"31\", \"32\", \"33\", \"34\"], \"mode\": \"lines\", \"name\": \"weighted_accuracy_max\", \"stepped\": true, \"type\": \"scatter\", \"data\": [0.9243042294722301, 0.9566448624710517, 0.9574330638280582, 0.9574330638280582, 0.9574330638280582, 0.9574330638280582, 0.9574330638280582, 0.9574330638280582, 0.9574330638280582, 0.9574330638280582, 0.9574330638280582, 0.9574330638280582, 0.9574330638280582, 0.9574330638280582, 0.9682241092105798, 0.9682241092105798, 0.9682241092105798, 0.9682241092105798, 0.9682241092105798, 0.9682241092105798, 0.9682241092105798, 0.9682241092105798, 0.9682241092105798, 0.9682241092105798, 0.9682241092105798, 0.9682241092105798, 0.9682241092105798, 0.9682241092105798, 0.9682241092105798, 0.9682241092105798, 0.9682241092105798, 0.9682241092105798, 0.9682241092105798, 0.9682241092105798, 0.9682241092105798]}], \"recall_score_weighted\": [{\"categories\": [\"0\", \"1\", \"2\", \"3\", \"4\", \"5\", \"6\", \"7\", \"8\", \"9\", \"10\", \"11\", \"12\", \"13\", \"14\", \"15\", \"16\", \"17\", \"18\", \"19\", \"20\", \"21\", \"22\", \"23\", \"24\", \"25\", \"26\", \"27\", \"28\", \"29\", \"30\", \"31\", \"32\", \"33\", \"34\"], \"mode\": \"markers\", \"name\": \"recall_score_weighted\", \"stepped\": false, \"type\": \"scatter\", \"data\": [0.9266666666666665, 0.96, 0.9600000000000002, 0.9, 0.9533333333333334, 0.8266666666666668, 0.9400000000000001, 0.96, 0.9466666666666667, 0.8333333333333333, 0.8666666666666668, 0.7066666666666667, 0.9533333333333334, 0.7533333333333334, 0.9666666666666668, 0.9266666666666665, 0.96, 0.9333333333333333, 0.8200000000000001, 0.9533333333333334, 0.9666666666666668, 0.9133333333333333, 0.9333333333333332, 0.9066666666666666, 0.9533333333333334, 0.8933333333333333, 0.9533333333333334, 0.9533333333333334, 0.9533333333333334, 0.9533333333333334, 0.9466666666666667, 0.9466666666666667, 0.9266666666666665, 0.9666666666666668, 0.96]}, {\"categories\": [\"0\", \"1\", \"2\", \"3\", \"4\", \"5\", \"6\", \"7\", \"8\", \"9\", \"10\", \"11\", \"12\", \"13\", \"14\", \"15\", \"16\", \"17\", \"18\", \"19\", \"20\", \"21\", \"22\", \"23\", \"24\", \"25\", \"26\", \"27\", \"28\", \"29\", \"30\", \"31\", \"32\", \"33\", \"34\"], \"mode\": \"lines\", \"name\": \"recall_score_weighted_max\", \"stepped\": true, \"type\": \"scatter\", \"data\": [0.9266666666666665, 0.96, 0.9600000000000002, 0.9600000000000002, 0.9600000000000002, 0.9600000000000002, 0.9600000000000002, 0.9600000000000002, 0.9600000000000002, 0.9600000000000002, 0.9600000000000002, 0.9600000000000002, 0.9600000000000002, 0.9600000000000002, 0.9666666666666668, 0.9666666666666668, 0.9666666666666668, 0.9666666666666668, 0.9666666666666668, 0.9666666666666668, 0.9666666666666668, 0.9666666666666668, 0.9666666666666668, 0.9666666666666668, 0.9666666666666668, 0.9666666666666668, 0.9666666666666668, 0.9666666666666668, 0.9666666666666668, 0.9666666666666668, 0.9666666666666668, 0.9666666666666668, 0.9666666666666668, 0.9666666666666668, 0.9666666666666668]}], \"log_loss\": [{\"categories\": [\"0\", \"1\", \"2\", \"3\", \"4\", \"5\", \"6\", \"7\", \"8\", \"9\", \"10\", \"11\", \"12\", \"13\", \"14\", \"15\", \"16\", \"17\", \"18\", \"19\", \"20\", \"21\", \"22\", \"23\", \"24\", \"25\", \"26\", \"27\", \"28\", \"29\", \"30\", \"31\", \"32\", \"33\", \"34\"], \"mode\": \"markers\", \"name\": \"log_loss\", \"stepped\": false, \"type\": \"scatter\", \"data\": [0.23804926074311417, 0.17795777088198836, 0.12129260019730778, 0.3593398161505704, 0.15591065928782544, 0.6583676603169278, 0.5669206829890763, 0.13760441265769568, 0.3491624367517046, 0.44999161666886084, 0.4457118152741998, 0.7078217899588564, 0.2979271372327535, 0.5617587850308393, 0.14176877952270067, 0.3847873692270868, 0.32518129786368577, 0.3530552000217994, 0.8093279179775928, 0.3187436670346496, 0.12265212475416594, 0.4911240388831172, 0.2368969328357437, 0.36099583730912216, 0.17038245914580682, 0.5312946662678598, 0.274545809535592, 0.6436707204695785, 0.192334979357127, 0.3188865528036313, 0.18561494636642234, 0.23429586930548382, 0.2952108883141451, 0.16446017396871332, 0.6595338869199802]}, {\"categories\": [\"0\", \"1\", \"2\", \"3\", \"4\", \"5\", \"6\", \"7\", \"8\", \"9\", \"10\", \"11\", \"12\", \"13\", \"14\", \"15\", \"16\", \"17\", \"18\", \"19\", \"20\", \"21\", \"22\", \"23\", \"24\", \"25\", \"26\", \"27\", \"28\", \"29\", \"30\", \"31\", \"32\", \"33\", \"34\"], \"mode\": \"lines\", \"name\": \"log_loss_min\", \"stepped\": true, \"type\": \"scatter\", \"data\": [0.23804926074311417, 0.17795777088198836, 0.12129260019730778, 0.12129260019730778, 0.12129260019730778, 0.12129260019730778, 0.12129260019730778, 0.12129260019730778, 0.12129260019730778, 0.12129260019730778, 0.12129260019730778, 0.12129260019730778, 0.12129260019730778, 0.12129260019730778, 0.12129260019730778, 0.12129260019730778, 0.12129260019730778, 0.12129260019730778, 0.12129260019730778, 0.12129260019730778, 0.12129260019730778, 0.12129260019730778, 0.12129260019730778, 0.12129260019730778, 0.12129260019730778, 0.12129260019730778, 0.12129260019730778, 0.12129260019730778, 0.12129260019730778, 0.12129260019730778, 0.12129260019730778, 0.12129260019730778, 0.12129260019730778, 0.12129260019730778, 0.12129260019730778]}], \"f1_score_micro\": [{\"categories\": [\"0\", \"1\", \"2\", \"3\", \"4\", \"5\", \"6\", \"7\", \"8\", \"9\", \"10\", \"11\", \"12\", \"13\", \"14\", \"15\", \"16\", \"17\", \"18\", \"19\", \"20\", \"21\", \"22\", \"23\", \"24\", \"25\", \"26\", \"27\", \"28\", \"29\", \"30\", \"31\", \"32\", \"33\", \"34\"], \"mode\": \"markers\", \"name\": \"f1_score_micro\", \"stepped\": false, \"type\": \"scatter\", \"data\": [0.9266666666666665, 0.96, 0.9600000000000002, 0.9, 0.9533333333333334, 0.8266666666666668, 0.9400000000000001, 0.96, 0.9466666666666667, 0.8333333333333333, 0.8666666666666668, 0.7066666666666667, 0.9533333333333334, 0.7533333333333334, 0.9666666666666668, 0.9266666666666665, 0.96, 0.9333333333333333, 0.8200000000000001, 0.9533333333333334, 0.9666666666666668, 0.9133333333333333, 0.9333333333333332, 0.9066666666666666, 0.9533333333333334, 0.8933333333333333, 0.9533333333333334, 0.9533333333333334, 0.9533333333333334, 0.9533333333333334, 0.9466666666666667, 0.9466666666666667, 0.9266666666666665, 0.9666666666666668, 0.96]}, {\"categories\": [\"0\", \"1\", \"2\", \"3\", \"4\", \"5\", \"6\", \"7\", \"8\", \"9\", \"10\", \"11\", \"12\", \"13\", \"14\", \"15\", \"16\", \"17\", \"18\", \"19\", \"20\", \"21\", \"22\", \"23\", \"24\", \"25\", \"26\", \"27\", \"28\", \"29\", \"30\", \"31\", \"32\", \"33\", \"34\"], \"mode\": \"lines\", \"name\": \"f1_score_micro_max\", \"stepped\": true, \"type\": \"scatter\", \"data\": [0.9266666666666665, 0.96, 0.9600000000000002, 0.9600000000000002, 0.9600000000000002, 0.9600000000000002, 0.9600000000000002, 0.9600000000000002, 0.9600000000000002, 0.9600000000000002, 0.9600000000000002, 0.9600000000000002, 0.9600000000000002, 0.9600000000000002, 0.9666666666666668, 0.9666666666666668, 0.9666666666666668, 0.9666666666666668, 0.9666666666666668, 0.9666666666666668, 0.9666666666666668, 0.9666666666666668, 0.9666666666666668, 0.9666666666666668, 0.9666666666666668, 0.9666666666666668, 0.9666666666666668, 0.9666666666666668, 0.9666666666666668, 0.9666666666666668, 0.9666666666666668, 0.9666666666666668, 0.9666666666666668, 0.9666666666666668, 0.9666666666666668]}], \"accuracy\": [{\"categories\": [\"0\", \"1\", \"2\", \"3\", \"4\", \"5\", \"6\", \"7\", \"8\", \"9\", \"10\", \"11\", \"12\", \"13\", \"14\", \"15\", \"16\", \"17\", \"18\", \"19\", \"20\", \"21\", \"22\", \"23\", \"24\", \"25\", \"26\", \"27\", \"28\", \"29\", \"30\", \"31\", \"32\", \"33\", \"34\"], \"mode\": \"markers\", \"name\": \"accuracy\", \"stepped\": false, \"type\": \"scatter\", \"data\": [0.9266666666666665, 0.96, 0.9600000000000002, 0.9, 0.9533333333333334, 0.8266666666666668, 0.9400000000000001, 0.96, 0.9466666666666667, 0.8333333333333333, 0.8666666666666668, 0.7066666666666667, 0.9533333333333334, 0.7533333333333334, 0.9666666666666668, 0.9266666666666665, 0.96, 0.9333333333333333, 0.8200000000000001, 0.9533333333333334, 0.9666666666666668, 0.9133333333333333, 0.9333333333333332, 0.9066666666666666, 0.9533333333333334, 0.8933333333333333, 0.9533333333333334, 0.9533333333333334, 0.9533333333333334, 0.9533333333333334, 0.9466666666666667, 0.9466666666666667, 0.9266666666666665, 0.9666666666666668, 0.96]}, {\"categories\": [\"0\", \"1\", \"2\", \"3\", \"4\", \"5\", \"6\", \"7\", \"8\", \"9\", \"10\", \"11\", \"12\", \"13\", \"14\", \"15\", \"16\", \"17\", \"18\", \"19\", \"20\", \"21\", \"22\", \"23\", \"24\", \"25\", \"26\", \"27\", \"28\", \"29\", \"30\", \"31\", \"32\", \"33\", \"34\"], \"mode\": \"lines\", \"name\": \"accuracy_max\", \"stepped\": true, \"type\": \"scatter\", \"data\": [0.9266666666666665, 0.96, 0.9600000000000002, 0.9600000000000002, 0.9600000000000002, 0.9600000000000002, 0.9600000000000002, 0.9600000000000002, 0.9600000000000002, 0.9600000000000002, 0.9600000000000002, 0.9600000000000002, 0.9600000000000002, 0.9600000000000002, 0.9666666666666668, 0.9666666666666668, 0.9666666666666668, 0.9666666666666668, 0.9666666666666668, 0.9666666666666668, 0.9666666666666668, 0.9666666666666668, 0.9666666666666668, 0.9666666666666668, 0.9666666666666668, 0.9666666666666668, 0.9666666666666668, 0.9666666666666668, 0.9666666666666668, 0.9666666666666668, 0.9666666666666668, 0.9666666666666668, 0.9666666666666668, 0.9666666666666668, 0.9666666666666668]}], \"f1_score_macro\": [{\"categories\": [\"0\", \"1\", \"2\", \"3\", \"4\", \"5\", \"6\", \"7\", \"8\", \"9\", \"10\", \"11\", \"12\", \"13\", \"14\", \"15\", \"16\", \"17\", \"18\", \"19\", \"20\", \"21\", \"22\", \"23\", \"24\", \"25\", \"26\", \"27\", \"28\", \"29\", \"30\", \"31\", \"32\", \"33\", \"34\"], \"mode\": \"markers\", \"name\": \"f1_score_macro\", \"stepped\": false, \"type\": \"scatter\", \"data\": [0.9246512006512007, 0.9593467585046532, 0.9605930365930366, 0.896162473502627, 0.9513524993524992, 0.818095238095238, 0.9380561145778537, 0.9593467585046532, 0.9427411418990367, 0.8338900827032922, 0.8643901727762275, 0.6256605157294812, 0.9509800141379088, 0.7288604716385934, 0.9627965926211539, 0.921143643880486, 0.9593467585046532, 0.9325492735927519, 0.8079812625353421, 0.9476569989888068, 0.9676495668074615, 0.9130346261925208, 0.9303272993785328, 0.9022873422873424, 0.9509023140602088, 0.8861768691516975, 0.9509023140602088, 0.950048026048026, 0.9520598232177179, 0.9531946952778643, 0.9438457838457838, 0.9453954730751069, 0.9208274999853947, 0.9676495668074615, 0.9593467585046532]}, {\"categories\": [\"0\", \"1\", \"2\", \"3\", \"4\", \"5\", \"6\", \"7\", \"8\", \"9\", \"10\", \"11\", \"12\", \"13\", \"14\", \"15\", \"16\", \"17\", \"18\", \"19\", \"20\", \"21\", \"22\", \"23\", \"24\", \"25\", \"26\", \"27\", \"28\", \"29\", \"30\", \"31\", \"32\", \"33\", \"34\"], \"mode\": \"lines\", \"name\": \"f1_score_macro_max\", \"stepped\": true, \"type\": \"scatter\", \"data\": [0.9246512006512007, 0.9593467585046532, 0.9605930365930366, 0.9605930365930366, 0.9605930365930366, 0.9605930365930366, 0.9605930365930366, 0.9605930365930366, 0.9605930365930366, 0.9605930365930366, 0.9605930365930366, 0.9605930365930366, 0.9605930365930366, 0.9605930365930366, 0.9627965926211539, 0.9627965926211539, 0.9627965926211539, 0.9627965926211539, 0.9627965926211539, 0.9627965926211539, 0.9676495668074615, 0.9676495668074615, 0.9676495668074615, 0.9676495668074615, 0.9676495668074615, 0.9676495668074615, 0.9676495668074615, 0.9676495668074615, 0.9676495668074615, 0.9676495668074615, 0.9676495668074615, 0.9676495668074615, 0.9676495668074615, 0.9676495668074615, 0.9676495668074615]}]}, \"metricName\": null, \"primaryMetricName\": \"accuracy\", \"showLegend\": false}, \"run_metrics\": [{\"name\": \"experiment_status\", \"run_id\": \"AutoML_cd8d6a71-4711-414c-84df-68fa7153efde\", \"categories\": [0, 1, 2, 3, 4, 5, 6, 7, 8, 9, 10, 11, 12, 13], \"series\": [{\"data\": [\"DatasetEvaluation\", \"FeaturesGeneration\", \"DatasetFeaturization\", \"DatasetFeaturizationCompleted\", \"DatasetCrossValidationSplit\", \"ModelSelection\", \"BestRunExplainModel\", \"ModelExplanationDataSetSetup\", \"PickSurrogateModel\", \"EngineeredFeatureExplanations\", \"EngineeredFeatureExplanations\", \"RawFeaturesExplanations\", \"RawFeaturesExplanations\", \"BestRunExplainModel\"]}]}, {\"name\": \"experiment_status_description\", \"run_id\": \"AutoML_cd8d6a71-4711-414c-84df-68fa7153efde\", \"categories\": [0, 1, 2, 3, 4, 5, 6, 7, 8, 9, 10, 11, 12, 13], \"series\": [{\"data\": [\"Gathering dataset statistics.\", \"Generating features for the dataset.\", \"Beginning to fit featurizers and featurize the dataset.\", \"Completed fit featurizers and featurizing the dataset.\", \"Generating individually featurized CV splits.\", \"Beginning model selection.\", \"Best run model explanations started\", \"Model explanations data setup completed\", \"Choosing LightGBM as the surrogate model for explanations\", \"Computation of engineered features started\", \"Computation of engineered features completed\", \"Computation of raw features started\", \"Computation of raw features completed\", \"Best run model explanations completed\"]}]}, {\"name\": \"precision_score_weighted\", \"run_id\": \"AutoML_cd8d6a71-4711-414c-84df-68fa7153efde\", \"categories\": [0], \"series\": [{\"data\": [0.9688917748917749]}]}, {\"name\": \"precision_score_micro\", \"run_id\": \"AutoML_cd8d6a71-4711-414c-84df-68fa7153efde\", \"categories\": [0], \"series\": [{\"data\": [0.9666666666666668]}]}, {\"name\": \"AUC_micro\", \"run_id\": \"AutoML_cd8d6a71-4711-414c-84df-68fa7153efde\", \"categories\": [0], \"series\": [{\"data\": [0.9954444444444445]}]}, {\"name\": \"average_precision_score_micro\", \"run_id\": \"AutoML_cd8d6a71-4711-414c-84df-68fa7153efde\", \"categories\": [0], \"series\": [{\"data\": [0.9912013952936464]}]}, {\"name\": \"AUC_macro\", \"run_id\": \"AutoML_cd8d6a71-4711-414c-84df-68fa7153efde\", \"categories\": [0], \"series\": [{\"data\": [0.9938204342574828]}]}, {\"name\": \"f1_score_weighted\", \"run_id\": \"AutoML_cd8d6a71-4711-414c-84df-68fa7153efde\", \"categories\": [0], \"series\": [{\"data\": [0.9667897435897437]}]}, {\"name\": \"AUC_weighted\", \"run_id\": \"AutoML_cd8d6a71-4711-414c-84df-68fa7153efde\", \"categories\": [0], \"series\": [{\"data\": [0.9932193965305421]}]}, {\"name\": \"balanced_accuracy\", \"run_id\": \"AutoML_cd8d6a71-4711-414c-84df-68fa7153efde\", \"categories\": [0], \"series\": [{\"data\": [0.970955710955711]}]}, {\"name\": \"recall_score_micro\", \"run_id\": \"AutoML_cd8d6a71-4711-414c-84df-68fa7153efde\", \"categories\": [0], \"series\": [{\"data\": [0.9666666666666668]}]}, {\"name\": \"norm_macro_recall\", \"run_id\": \"AutoML_cd8d6a71-4711-414c-84df-68fa7153efde\", \"categories\": [0], \"series\": [{\"data\": [0.9564335664335666]}]}, {\"name\": \"precision_score_macro\", \"run_id\": \"AutoML_cd8d6a71-4711-414c-84df-68fa7153efde\", \"categories\": [0], \"series\": [{\"data\": [0.9665601065601066]}]}, {\"name\": \"matthews_correlation\", \"run_id\": \"AutoML_cd8d6a71-4711-414c-84df-68fa7153efde\", \"categories\": [0], \"series\": [{\"data\": [0.9497062506285552]}]}, {\"name\": \"average_precision_score_weighted\", \"run_id\": \"AutoML_cd8d6a71-4711-414c-84df-68fa7153efde\", \"categories\": [0], \"series\": [{\"data\": [0.9888634143634143]}]}, {\"name\": \"recall_score_macro\", \"run_id\": \"AutoML_cd8d6a71-4711-414c-84df-68fa7153efde\", \"categories\": [0], \"series\": [{\"data\": [0.970955710955711]}]}, {\"name\": \"average_precision_score_macro\", \"run_id\": \"AutoML_cd8d6a71-4711-414c-84df-68fa7153efde\", \"categories\": [0], \"series\": [{\"data\": [0.9891663191624342]}]}, {\"name\": \"weighted_accuracy\", \"run_id\": \"AutoML_cd8d6a71-4711-414c-84df-68fa7153efde\", \"categories\": [0], \"series\": [{\"data\": [0.9633933287287206]}]}, {\"name\": \"recall_score_weighted\", \"run_id\": \"AutoML_cd8d6a71-4711-414c-84df-68fa7153efde\", \"categories\": [0], \"series\": [{\"data\": [0.9666666666666668]}]}, {\"name\": \"log_loss\", \"run_id\": \"AutoML_cd8d6a71-4711-414c-84df-68fa7153efde\", \"categories\": [0], \"series\": [{\"data\": [0.12265212475416594]}]}, {\"name\": \"f1_score_micro\", \"run_id\": \"AutoML_cd8d6a71-4711-414c-84df-68fa7153efde\", \"categories\": [0], \"series\": [{\"data\": [0.9666666666666668]}]}, {\"name\": \"accuracy\", \"run_id\": \"AutoML_cd8d6a71-4711-414c-84df-68fa7153efde\", \"categories\": [0], \"series\": [{\"data\": [0.9666666666666668]}]}, {\"name\": \"f1_score_macro\", \"run_id\": \"AutoML_cd8d6a71-4711-414c-84df-68fa7153efde\", \"categories\": [0], \"series\": [{\"data\": [0.9676495668074615]}]}], \"run_logs\": \"\\nRun is completed.\", \"graph\": {}, \"widget_settings\": {\"childWidgetDisplay\": \"popup\", \"send_telemetry\": false, \"log_level\": \"INFO\", \"sdk_version\": \"1.18.0\"}, \"loading\": false}"
     },
     "metadata": {},
     "output_type": "display_data"
    },
    {
     "name": "stdout",
     "output_type": "stream",
     "text": [
      "\n",
      "\n",
      "****************************************************************************************************\n",
      "DATA GUARDRAILS: \n",
      "\n",
      "TYPE:         Class balancing detection\n",
      "STATUS:       PASSED\n",
      "DESCRIPTION:  Your inputs were analyzed, and all classes are balanced in your training data.\n",
      "              Learn more about imbalanced data: https://aka.ms/AutomatedMLImbalancedData\n",
      "\n",
      "****************************************************************************************************\n",
      "\n",
      "TYPE:         Missing feature values imputation\n",
      "STATUS:       PASSED\n",
      "DESCRIPTION:  No feature missing values were detected in the training data.\n",
      "              Learn more about missing value imputation: https://aka.ms/AutomatedMLFeaturization\n",
      "\n",
      "****************************************************************************************************\n",
      "\n",
      "TYPE:         High cardinality feature detection\n",
      "STATUS:       PASSED\n",
      "DESCRIPTION:  Your inputs were analyzed, and no high cardinality features were detected.\n",
      "              Learn more about high cardinality feature handling: https://aka.ms/AutomatedMLFeaturization\n",
      "\n",
      "****************************************************************************************************\n",
      "\n",
      "****************************************************************************************************\n",
      "ITERATION: The iteration being evaluated.\n",
      "PIPELINE: A summary description of the pipeline being evaluated.\n",
      "DURATION: Time taken for the current iteration.\n",
      "METRIC: The result of computing score on the fitted pipeline.\n",
      "BEST: The best observed score thus far.\n",
      "****************************************************************************************************\n",
      "\n",
      " ITERATION   PIPELINE                                       DURATION      METRIC      BEST\n",
      "         0   MaxAbsScaler LightGBM                          0:00:23       0.9267    0.9267\n",
      "         1   MaxAbsScaler XGBoostClassifier                 0:00:23       0.9600    0.9600\n",
      "         2   MinMaxScaler RandomForest                      0:00:23       0.9600    0.9600\n",
      "         3   StandardScalerWrapper SGD                      0:00:28       0.9000    0.9600\n",
      "         4   MinMaxScaler RandomForest                      0:00:23       0.9533    0.9600\n",
      "         5   StandardScalerWrapper SGD                      0:00:23       0.8267    0.9600\n",
      "         6   StandardScalerWrapper RandomForest             0:00:23       0.9400    0.9600\n",
      "         7   RobustScaler ExtremeRandomTrees                0:00:24       0.9600    0.9600\n",
      "         8   StandardScalerWrapper ExtremeRandomTrees       0:00:24       0.9467    0.9600\n",
      "         9   StandardScalerWrapper SGD                      0:00:23       0.8333    0.9600\n",
      "        10   StandardScalerWrapper SGD                      0:00:28       0.8667    0.9600\n",
      "        11   MinMaxScaler SGD                               0:00:23       0.7067    0.9600\n",
      "        12   RobustScaler ExtremeRandomTrees                0:00:29       0.9533    0.9600\n",
      "        13   MinMaxScaler SGD                               0:00:23       0.7533    0.9600\n",
      "        14   MinMaxScaler ExtremeRandomTrees                0:00:28       0.9667    0.9667\n",
      "        15   MinMaxScaler ExtremeRandomTrees                0:00:27       0.9267    0.9667\n",
      "        16   MinMaxScaler ExtremeRandomTrees                0:00:28       0.9600    0.9667\n",
      "        17   StandardScalerWrapper RandomForest             0:00:23       0.9333    0.9667\n",
      "        18   StandardScalerWrapper SGD                      0:00:24       0.8200    0.9667\n",
      "        19   RobustScaler ExtremeRandomTrees                0:00:29       0.9533    0.9667\n",
      "        20   StandardScalerWrapper RandomForest             0:00:29       0.9667    0.9667\n",
      "        21   MinMaxScaler ExtremeRandomTrees                0:00:24       0.9133    0.9667\n",
      "        22   SparseNormalizer XGBoostClassifier             0:00:25       0.9333    0.9667\n",
      "        23   MinMaxScaler LightGBM                          0:00:25       0.9067    0.9667\n",
      "        24   MaxAbsScaler ExtremeRandomTrees                0:00:24       0.9533    0.9667\n",
      "        25   RobustScaler ExtremeRandomTrees                0:00:32       0.8933    0.9667\n",
      "        26   StandardScalerWrapper ExtremeRandomTrees       0:00:26       0.9533    0.9667\n",
      "        27   StandardScalerWrapper LightGBM                 0:00:28       0.9533    0.9667\n",
      "        28   MaxAbsScaler RandomForest                      0:00:33       0.9533    0.9667\n",
      "        29   SparseNormalizer ExtremeRandomTrees            0:00:27       0.9533    0.9667\n",
      "        30   MaxAbsScaler ExtremeRandomTrees                0:00:23       0.9467    0.9667\n",
      "        31   MinMaxScaler LightGBM                          0:00:23       0.9467    0.9667\n",
      "        32   StandardScalerWrapper LightGBM                 0:00:24       0.9267    0.9667\n",
      "        33    VotingEnsemble                                0:00:32       0.9667    0.9667\n",
      "        34    StackEnsemble                                 0:00:36       0.9600    0.9667\n"
     ]
    },
    {
     "data": {
      "text/plain": [
       "{'runId': 'AutoML_cd8d6a71-4711-414c-84df-68fa7153efde',\n",
       " 'target': 'local',\n",
       " 'status': 'Completed',\n",
       " 'startTimeUtc': '2020-12-04T14:57:47.368758Z',\n",
       " 'endTimeUtc': '2020-12-04T15:14:09.69455Z',\n",
       " 'properties': {'num_iterations': '1000',\n",
       "  'training_type': 'TrainFull',\n",
       "  'acquisition_function': 'EI',\n",
       "  'primary_metric': 'accuracy',\n",
       "  'train_split': '0',\n",
       "  'acquisition_parameter': '0',\n",
       "  'num_cross_validation': '5',\n",
       "  'target': 'local',\n",
       "  'AMLSettingsJsonString': '{\"path\":null,\"name\":\"udacity_capstone_project\",\"subscription_id\":\"5781be4e-7862-42f9-8ae8-e879c711039b\",\"resource_group\":\"aml-quickstarts-129170\",\"workspace_name\":\"quick-starts-ws-129170\",\"region\":\"southcentralus\",\"compute_target\":\"local\",\"spark_service\":null,\"azure_service\":\"Microsoft.AzureNotebookVM\",\"_local_managed_run_id\":null,\"many_models\":false,\"pipeline_fetch_max_batch_size\":1,\"iterations\":1000,\"primary_metric\":\"accuracy\",\"task_type\":\"classification\",\"data_script\":null,\"validation_size\":0.0,\"n_cross_validations\":5,\"y_min\":null,\"y_max\":null,\"num_classes\":3,\"featurization\":\"auto\",\"_ignore_package_version_incompatibilities\":false,\"is_timeseries\":false,\"max_cores_per_iteration\":1,\"max_concurrent_iterations\":5,\"iteration_timeout_minutes\":null,\"mem_in_mb\":null,\"enforce_time_on_windows\":false,\"experiment_timeout_minutes\":15,\"experiment_exit_score\":null,\"whitelist_models\":null,\"blacklist_algos\":[\"TensorFlowLinearClassifier\",\"TensorFlowDNN\"],\"supported_models\":[\"RandomForest\",\"TensorFlowDNN\",\"MultinomialNaiveBayes\",\"SGD\",\"LightGBM\",\"XGBoostClassifier\",\"ExtremeRandomTrees\",\"LinearSVM\",\"DecisionTree\",\"LogisticRegression\",\"GradientBoosting\",\"TensorFlowLinearClassifier\",\"AveragedPerceptronClassifier\",\"KNN\",\"SVM\",\"BernoulliNaiveBayes\"],\"auto_blacklist\":true,\"blacklist_samples_reached\":false,\"exclude_nan_labels\":true,\"verbosity\":20,\"_debug_log\":\"automl.log\",\"show_warnings\":false,\"model_explainability\":true,\"service_url\":null,\"sdk_url\":null,\"sdk_packages\":null,\"enable_onnx_compatible_models\":false,\"enable_split_onnx_featurizer_estimator_models\":false,\"vm_type\":null,\"telemetry_verbosity\":20,\"send_telemetry\":true,\"enable_dnn\":false,\"scenario\":\"SDK-1.13.0\",\"environment_label\":null,\"force_text_dnn\":false,\"enable_feature_sweeping\":true,\"enable_early_stopping\":false,\"early_stopping_n_iters\":10,\"metrics\":null,\"enable_ensembling\":true,\"enable_stack_ensembling\":true,\"ensemble_iterations\":15,\"enable_tf\":false,\"enable_subsampling\":null,\"subsample_seed\":null,\"enable_nimbusml\":false,\"enable_streaming\":false,\"force_streaming\":false,\"track_child_runs\":true,\"allowed_private_models\":[],\"label_column_name\":\"labels\",\"weight_column_name\":null,\"cv_split_column_names\":null,\"enable_local_managed\":false,\"cost_mode\":1,\"lag_length\":0,\"metric_operation\":\"maximize\",\"preprocess\":true}',\n",
       "  'DataPrepJsonString': None,\n",
       "  'EnableSubsampling': None,\n",
       "  'runTemplate': 'AutoML',\n",
       "  'azureml.runsource': 'automl',\n",
       "  'display_task_type': 'classification',\n",
       "  'dependencies_versions': '{\"azureml-widgets\": \"1.18.0\", \"azureml-train\": \"1.18.0\", \"azureml-train-restclients-hyperdrive\": \"1.18.0\", \"azureml-train-core\": \"1.18.0\", \"azureml-train-automl\": \"1.18.0\", \"azureml-train-automl-runtime\": \"1.18.0\", \"azureml-train-automl-client\": \"1.18.0\", \"azureml-tensorboard\": \"1.18.0\", \"azureml-telemetry\": \"1.18.0\", \"azureml-sdk\": \"1.18.0\", \"azureml-samples\": \"0+unknown\", \"azureml-pipeline\": \"1.18.0\", \"azureml-pipeline-steps\": \"1.18.0\", \"azureml-pipeline-core\": \"1.18.0\", \"azureml-opendatasets\": \"1.18.0\", \"azureml-model-management-sdk\": \"1.0.1b6.post1\", \"azureml-mlflow\": \"1.18.0\", \"azureml-interpret\": \"1.18.0\", \"azureml-explain-model\": \"1.18.0\", \"azureml-defaults\": \"1.18.0\", \"azureml-dataset-runtime\": \"1.18.0\", \"azureml-dataprep\": \"2.4.2\", \"azureml-dataprep-rslex\": \"1.2.2\", \"azureml-dataprep-native\": \"24.0.0\", \"azureml-datadrift\": \"1.18.0\", \"azureml-core\": \"1.18.0\", \"azureml-contrib-services\": \"1.18.0\", \"azureml-contrib-server\": \"1.18.0\", \"azureml-contrib-reinforcementlearning\": \"1.18.0\", \"azureml-contrib-pipeline-steps\": \"1.18.0\", \"azureml-contrib-notebook\": \"1.18.0\", \"azureml-contrib-interpret\": \"1.18.0\", \"azureml-contrib-gbdt\": \"1.18.0\", \"azureml-contrib-fairness\": \"1.18.0\", \"azureml-contrib-dataset\": \"1.18.0\", \"azureml-cli-common\": \"1.18.0\", \"azureml-automl-runtime\": \"1.18.0\", \"azureml-automl-core\": \"1.18.0\", \"azureml-accel-models\": \"1.18.0\"}',\n",
       "  '_aml_system_scenario_identification': 'Local.Parent',\n",
       "  'ClientSdkVersion': '1.18.0',\n",
       "  'ClientType': 'SDK',\n",
       "  'environment_cpu_name': 'AzureML-AutoML',\n",
       "  'environment_cpu_version': '48',\n",
       "  'environment_gpu_name': 'AzureML-AutoML-GPU',\n",
       "  'environment_gpu_version': '36',\n",
       "  'root_attribution': 'automl',\n",
       "  'attribution': 'AutoML',\n",
       "  'Orchestrator': 'AutoML',\n",
       "  '_azureml.ComputeTargetType': 'local',\n",
       "  'ProblemInfoJsonString': '{\"dataset_num_categorical\": 0, \"is_sparse\": false, \"subsampling\": false, \"dataset_classes\": 3, \"dataset_features\": 4, \"dataset_samples\": 150, \"single_frequency_class_detected\": false}',\n",
       "  'feature_skus': 'automatedml_sdk_guardrails'},\n",
       " 'inputDatasets': [],\n",
       " 'outputDatasets': [],\n",
       " 'logFiles': {}}"
      ]
     },
     "execution_count": 13,
     "metadata": {},
     "output_type": "execute_result"
    }
   ],
   "source": [
    "RunDetails(automl_run).show()\n",
    "automl_run.wait_for_completion(show_output=True)"
   ]
  },
  {
   "cell_type": "markdown",
   "metadata": {},
   "source": [
    "## Best Model\n",
    "\n",
    "TODO: In the cell below, get the best model from the automl experiments and display all the properties of the model.\n",
    "\n"
   ]
  },
  {
   "cell_type": "code",
   "execution_count": 18,
   "metadata": {
    "gather": {
     "logged": 1598431425670
    },
    "jupyter": {
     "outputs_hidden": false,
     "source_hidden": false
    },
    "nteract": {
     "transient": {
      "deleting": false
     }
    }
   },
   "outputs": [
    {
     "name": "stdout",
     "output_type": "stream",
     "text": [
      "Run(Experiment: udacity_capstone_project,\n",
      "Id: AutoML_cd8d6a71-4711-414c-84df-68fa7153efde_20,\n",
      "Type: None,\n",
      "Status: Completed) \n",
      "\n",
      "\n",
      "{'precision_score_weighted': 0.9688917748917749, 'precision_score_micro': 0.9666666666666668, 'AUC_micro': 0.9954444444444445, 'average_precision_score_micro': 0.9912013952936464, 'AUC_macro': 0.9938204342574828, 'f1_score_weighted': 0.9667897435897437, 'AUC_weighted': 0.9932193965305421, 'balanced_accuracy': 0.970955710955711, 'recall_score_micro': 0.9666666666666668, 'norm_macro_recall': 0.9564335664335666, 'precision_score_macro': 0.9665601065601066, 'matthews_correlation': 0.9497062506285552, 'average_precision_score_weighted': 0.9888634143634143, 'recall_score_macro': 0.970955710955711, 'average_precision_score_macro': 0.9891663191624342, 'weighted_accuracy': 0.9633933287287206, 'recall_score_weighted': 0.9666666666666668, 'log_loss': 0.12265212475416594, 'f1_score_micro': 0.9666666666666668, 'accuracy': 0.9666666666666668, 'f1_score_macro': 0.9676495668074615, 'confusion_matrix': 'aml://artifactId/ExperimentRun/dcid.AutoML_cd8d6a71-4711-414c-84df-68fa7153efde_20/confusion_matrix', 'accuracy_table': 'aml://artifactId/ExperimentRun/dcid.AutoML_cd8d6a71-4711-414c-84df-68fa7153efde_20/accuracy_table'} \n",
      "\n",
      "\n",
      "RandomForestClassifier(bootstrap=False, ccp_alpha=0.0, class_weight='balanced',\n",
      "                       criterion='gini', max_depth=None, max_features=0.05,\n",
      "                       max_leaf_nodes=None, max_samples=None,\n",
      "                       min_impurity_decrease=0.0, min_impurity_split=None,\n",
      "                       min_samples_leaf=0.01,\n",
      "                       min_samples_split=0.10368421052631578,\n",
      "                       min_weight_fraction_leaf=0.0, n_estimators=10, n_jobs=1,\n",
      "                       oob_score=False, random_state=None, verbose=0,\n",
      "                       warm_start=False)\n"
     ]
    }
   ],
   "source": [
    "best_automl_run, best_automl_model = automl_run.get_output()\n",
    "print(best_automl_run, \"\\n\\n\")\n",
    "print(best_automl_run.get_metrics(), \"\\n\\n\")\n",
    "print(best_automl_model._final_estimator)"
   ]
  },
  {
   "cell_type": "code",
   "execution_count": 19,
   "metadata": {
    "gather": {
     "logged": 1598431426111
    },
    "jupyter": {
     "outputs_hidden": false,
     "source_hidden": false
    },
    "nteract": {
     "transient": {
      "deleting": false
     }
    }
   },
   "outputs": [
    {
     "data": {
      "text/plain": [
       "Model(workspace=Workspace.create(name='quick-starts-ws-129170', subscription_id='5781be4e-7862-42f9-8ae8-e879c711039b', resource_group='aml-quickstarts-129170'), name=automl_model, id=automl_model:1, version=1, tags={}, properties={})"
      ]
     },
     "execution_count": 19,
     "metadata": {},
     "output_type": "execute_result"
    }
   ],
   "source": [
    "#TODO: Save the best model\n",
    "import joblib\n",
    "joblib.dump(best_automl_model, 'automl_model.joblib')\n",
    "\n",
    "# Register\n",
    "model = best_automl_run.register_model(\n",
    "    model_name='automl_model', \n",
    "    model_path='./outputs/'\n",
    ")\n",
    "model"
   ]
  },
  {
   "cell_type": "markdown",
   "metadata": {},
   "source": [
    "## Model Deployment\n",
    "\n",
    "Remember you have to deploy only one of the two models you trained.. Perform the steps in the rest of this notebook only if you wish to deploy this model.\n",
    "\n",
    "**Note: As we got accuracy of Hyperdrive more than AutoML hence we didn't deploy this model.**"
   ]
  },
  {
   "cell_type": "code",
   "execution_count": null,
   "metadata": {},
   "outputs": [],
   "source": []
  }
 ],
 "metadata": {
  "kernel_info": {
   "name": "python3-azureml"
  },
  "kernelspec": {
   "display_name": "Python 3.6 - AzureML",
   "language": "python",
   "name": "python3-azureml"
  },
  "language_info": {
   "codemirror_mode": {
    "name": "ipython",
    "version": 3
   },
   "file_extension": ".py",
   "mimetype": "text/x-python",
   "name": "python",
   "nbconvert_exporter": "python",
   "pygments_lexer": "ipython3",
   "version": "3.6.9"
  },
  "nteract": {
   "version": "nteract-front-end@1.0.0"
  }
 },
 "nbformat": 4,
 "nbformat_minor": 2
}
